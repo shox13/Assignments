{
 "cells": [
  {
   "cell_type": "markdown",
   "metadata": {},
   "source": [
    "# Exercise goals\n",
    "In this exercise, we will see how to use Python to build a network graph.\n",
    "\n",
    "We will start by running a simulation of a random event, a coin flip.  We will then build on that simulation to create different types of visualizations."
   ]
  },
  {
   "cell_type": "markdown",
   "metadata": {},
   "source": [
    "# Network graph demo\n",
    "We will be using data from Stackoverflow's Developer\n",
    "Stories to create a network graph. Follow the instructions to download the\n",
    "data.\n",
    "\n",
    "\n",
    "## Data\n",
    "This demo uses Stackoverflow tags. There are two data files, for nodes and edges, that are provided with this notebook. (You don't need to do anything to get them.)\n",
    "\n",
    "For more information, see:\n",
    "https://www.kaggle.com/stackoverflow/stack-overflow-tag-network\n",
    "\n",
    "\n",
    "## Peak at data\n",
    "Developers put different tags in their Developer Stories on\n",
    "Stackoverflow. They've collected some data about these tags and provided it to\n",
    "the public for analysis. Note that:\n",
    "- Nodesize is proportional to how many people use aspecific tag\n",
    "- Tags are grouped together based on similarity. Each group is calculated with a cluster walktrap.\n",
    "- Value is the correlation between the pair * 100. \n",
    "- The greater the value, the closer the pair will be in the graph.\n",
    "\n",
    "## Goal\n",
    "The goal of the demo is to create a network graph of this data showing the strength of connections between nodes,\n",
    "how nodes are grouped together, and the size of each node. We have all the data necessary to accomplish this."
   ]
  },
  {
   "cell_type": "markdown",
   "metadata": {},
   "source": [
    "# Code documentation\n",
    "Run the following cell to see docs for the code we will use to position nodes on the graph. Change the line that is not commented out (by `#`) to change the doc that opens when you run the cell."
   ]
  },
  {
   "cell_type": "code",
   "execution_count": null,
   "metadata": {
    "attributes": {
     "classes": [],
     "id": "",
     "n": "11"
    }
   },
   "outputs": [],
   "source": [
    "import networkx as nx\n",
    "#?nx.Graph\n",
    "#?nx.Graph.add_node\n",
    "#?nx.Graph.add_weighted_edges_from\n",
    "#?nx.draw\n",
    "?nx.spring_layout"
   ]
  },
  {
   "cell_type": "markdown",
   "metadata": {},
   "source": [
    "# Read in the data\n",
    "Run the following cell to read in the Stack Overflow data. Because of the large amount of data, this cell could take up to 30 seconds before you see results."
   ]
  },
  {
   "cell_type": "code",
   "execution_count": null,
   "metadata": {
    "attributes": {
     "classes": [],
     "id": "",
     "n": "2"
    }
   },
   "outputs": [],
   "source": [
    "# networkx is a library for making network graphs\n",
    "import networkx as nx\n",
    "import matplotlib.pyplot as plt\n",
    "import pandas as pd\n",
    "import warnings\n",
    "\n",
    "%matplotlib inline\n",
    "# we're turning off some warnings\n",
    "warnings.filterwarnings('ignore')\n",
    "\n",
    "# make sure you've moved these files from your Downloads folder, or provide the full file path to them in \n",
    "# the Downloads folder\n",
    "df_nodes = pd.read_csv('stack_network_nodes.csv')\n",
    "df_edges = pd.read_csv('stack_network_links.csv')\n",
    "print(\"Head of Nodes:\",'\\n', df_nodes.head(), '\\n')\n",
    "print(\"Head of Edges:\",'\\n', df_edges.head())"
   ]
  },
  {
   "cell_type": "markdown",
   "metadata": {},
   "source": [
    "# Create the network graph\n",
    "Run the following cell to see the network graph."
   ]
  },
  {
   "cell_type": "code",
   "execution_count": null,
   "metadata": {
    "attributes": {
     "classes": [],
     "id": "",
     "n": "5"
    }
   },
   "outputs": [],
   "source": [
    "# initialize the graph\n",
    "G = nx.Graph(name=\"Stackoverflow_Tags\")\n",
    "\n",
    "# add the nodes\n",
    "# iterrows takes each row and returns (index, row), similar to enumerate\n",
    "for index, row in df_nodes.iterrows():\n",
    "    G.add_node(row['name'], group=row['group'], nodesize=row['nodesize'])\n",
    "\n",
    "# add the links between nodes (called edges)\n",
    "for index, row in df_edges.iterrows():\n",
    "    G.add_weighted_edges_from([(row['source'], row['target'], row['value'])])\n",
    "\n",
    "# there will be a different color for each of the 14 groups of nodes\n",
    "# each of these codes is mapped to a different color\n",
    "color_map = {1:'#f09494', 2:'#eebcbc', 3:'#72bbd0', 4:'#91f0a1', 5:'#629fff', 6:'#bcc2f2',  \n",
    "             7:'#eebcbc', 8:'#f1f0c0', 9:'#d2ffe7', 10:'#caf3a6', 11:'#ffdf55', 12:'#ef77aa', \n",
    "             13:'#d6dcff', 14:'#d2f5f0'}\n",
    "\n",
    "# When you draw the graph, this controls the size of the window/picture frame it comes in.\n",
    "plt.figure(figsize=(25,25))\n",
    "\n",
    "# maps each node's group to the color assigned in color_map\n",
    "# this is a list comprehension. It's equivalent to \n",
    "# colors=[]\n",
    "# for node in G:\n",
    "#    colors.append(color_map[G.node[node]['group']])\n",
    "colors = [color_map[G.node[node]['group']] for node in G]\n",
    "\n",
    "# a list of nodesizes. Modify 10 to change how big the resulting circles are in the graph\n",
    "sizes = [G.node[node]['nodesize']*10 for node in G]\n",
    "\n",
    "# command to plot the graph\n",
    "# G is the networkx graph we've constructed\n",
    "# pos controls the position of the nodes\n",
    "# spring_layout uses a particular algorithm to calculate node position-see more via ?nx.spring_layout\n",
    "# k is in [0,1]. Increase it to increase the distance between circles \n",
    "# with_labels writes the language inside the circles\n",
    "nx.draw(G, node_color=colors, node_size=sizes, \n",
    "        pos=nx.spring_layout(G, k=0.5, iterations=50), with_labels=True)\n",
    "\n",
    "# gca stands for grab current axis\n",
    "ax = plt.gca()\n",
    "# sets the color of the edges of the circles\n",
    "ax.collections[0].set_edgecolor(\"#555555\")\n",
    "plt.show()"
   ]
  },
  {
   "cell_type": "markdown",
   "metadata": {},
   "source": [
    "# Network graph exercise\n",
    "Your task is to use the data provided to create a network graph using the demo as a guide.\n",
    "\n",
    "Run the cell below to generate sample nodes and edges to use in the network graph."
   ]
  },
  {
   "cell_type": "code",
   "execution_count": null,
   "metadata": {
    "attributes": {
     "classes": [],
     "id": "",
     "n": "13"
    }
   },
   "outputs": [],
   "source": [
    "import networkx as nx\n",
    "import matplotlib.pyplot as plt\n",
    "import pandas as pd\n",
    "\n",
    "nodes = [['python',1,100],\n",
    "         ['javascript',2,120],\n",
    "         ['c++',3,75],\n",
    "         ['bash',4,65]]\n",
    "\n",
    "edges = [['python','c++',.33],\n",
    "         ['javascript','c++',.11],\n",
    "         ['python','bash',.24],\n",
    "         ['bash','c++', .15],\n",
    "         ['javascript','c++', .1]]\n",
    "\n",
    "nodes = pd.DataFrame(nodes, columns=['name','group','nodesize'])\n",
    "edges = pd.DataFrame(edges, columns=['source','target','value'])\n",
    "print(nodes.head())\n",
    "print(edges.head())\n"
   ]
  },
  {
   "cell_type": "markdown",
   "metadata": {},
   "source": [
    "# Create your graph\n",
    "Now lets use that data to create a new graph.\n",
    "\n",
    "Your must:\n",
    "- Initialize the graph\n",
    "- Add the nodes to the graph\n",
    "- Add the edges to the graph\n",
    "\n",
    "You will need to use the following functions from `networkx`:\n",
    "- `nx.Graph`\n",
    "- `nx.Graph.add_node` \n",
    "- `nx.Graph.add_weighted_edges_from`\n",
    "\n",
    "These functions are used in the cell below.\n",
    "\n",
    "Rrun the cell below to see the results."
   ]
  },
  {
   "cell_type": "code",
   "execution_count": null,
   "metadata": {
    "attributes": {
     "classes": [],
     "id": "",
     "n": "14"
    }
   },
   "outputs": [],
   "source": [
    "# Network Graph Exercise\n",
    "\n",
    "\n",
    "#---------------------Your code here------------------------#\n",
    "# initialize the graph\n",
    "G = nx.Graph()\n",
    "\n",
    "# we add each node to the graph\n",
    "for i, row in nodes.iterrows():\n",
    "    G.add_node(row['name'], group = row['group'], nodesize=row['nodesize'])\n",
    "# add each edge/connection to the graph\n",
    "for i, row in edges.iterrows():\n",
    "    G.add_weighted_edges_from([(row['source'], row['target'], row['value'])])\n",
    "#-----------------------------------------------------------#\n",
    "\n",
    "plt.figure(figsize=(25,25))\n",
    "\n",
    "# k is in [0,1]. Increase it to increase the distance between circles \n",
    "sizes = [size*70 for size in nodes['nodesize']]\n",
    "color_map = {1:'#f09494', 2:'#eebcbc', 3:'#72bbd0', 4:'#91f0a1'}\n",
    "colors = [color_map[G.node[node]['group']] for node in G]\n",
    "# this plots the graph\n",
    "nx.draw(G, node_color=colors, node_size=sizes, pos=nx.spring_layout(G, k=0.5, iterations=50), \n",
    "        with_labels=True)\n",
    "\n",
    "# gca stands for grab current axis\n",
    "ax = plt.gca()\n",
    "# sets the color of the edges of the circles\n",
    "ax.collections[0].set_edgecolor(\"#555555\")\n",
    "plt.show()"
   ]
  }
 ],
 "metadata": {
  "kernelspec": {
   "display_name": "Python 2",
   "language": "python",
   "name": "python2"
  },
  "language_info": {
   "codemirror_mode": {
    "name": "ipython",
    "version": 2
   },
   "file_extension": ".py",
   "mimetype": "text/x-python",
   "name": "python",
   "nbconvert_exporter": "python",
   "pygments_lexer": "ipython2",
   "version": "2.7.15"
  }
 },
 "nbformat": 4,
 "nbformat_minor": 2
}
