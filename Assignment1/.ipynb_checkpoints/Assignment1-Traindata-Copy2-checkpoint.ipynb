{
 "cells": [
  {
   "cell_type": "markdown",
   "metadata": {},
   "source": [
    "# Exploring and Visualizing Data\n",
    "In this exercise, we will explore a large dataset for New York City trains. We will then create visualizations for that data in the following forms.\n",
    "\n",
    "- A **box and whisker plot** that shows train trip duration.\n",
    "- A **bar chart** that shows the number of passengers on each train.\n",
    "- A **histogram** that shows the most likely trip duration.\n",
    "\n",
    "## Box and Whisker Plot: Train Trip Duration\n",
    "This first visualization is a box and whisker plot that uses train data from New York City. This visualization has three steps.\n",
    "1. Load the train data.\n",
    "2. Create a box and whisker plot.\n",
    "3. Refine the box and whisker plot.\n",
    "\n",
    "### Step 1. Load the Train Data\n",
    "Before we can create the box and whisker plot, we need a dataset. To load the train data, follow these steps.\n",
    "\n",
    "1. In the following code cell, enter a value for the `train` variable. \n",
    "\n",
    "   To do this, either replace the `train =` line in the code cell with the following line, or create your own value for the `train` variable based on the `read_csv` method.\n",
    "\n",
    "    `train = pd.read_csv('train.csv')`\n",
    "\n",
    "   For more information, see **Python Notes** and **read_csv Method Documentation** below the code cell.\n",
    "\n",
    "2. In the following code cell, enter a value for the `duration` variable. \n",
    "\n",
    "   To do this, either replace the `duration =` line in the code cell with the following line, or enter your own value for the `duration` variable based on the `trip_duration` column in the `train` variable.\n",
    "\n",
    "    `duration = train['trip_duration']`\n",
    "\n",
    "3. Run the code cell.\n",
    "\n",
    "   Note: This dataset is large. This code block might take up to 15 seconds to run."
   ]
  },
  {
   "cell_type": "code",
   "execution_count": null,
   "metadata": {
    "attributes": {
     "classes": [],
     "id": "",
     "n": "10"
    }
   },
   "outputs": [],
   "source": [
    "# Load libraries that allow us to access pre-made functions.\n",
    "import pandas as pd\n",
    "import matplotlib.pyplot as plt\n",
    "# Show matplotlib plots within the jupyter notebook.\n",
    "%matplotlib inline \n",
    "\n",
    "# You need to load the train.csv file. To do this, enter a value for the train \n",
    "# variable in the following line.\n",
    "#-------- Enter a value for the train variable here --------------#\n",
    "train =\n",
    "#-----------------------------------------------------------------#\n",
    "# If an error occurs when you try to load the trip.csv file, try moving train.csv \n",
    "# from your Downloads folder to your current working directory.\n",
    "\n",
    "#-------- Enter a value for the duration variable here -----------#\n",
    "duration =\n",
    "#-----------------------------------------------------------------#\n",
    "# use describe() to display summary stats for trip_duration\n",
    "duration.describe()"
   ]
  },
  {
   "cell_type": "markdown",
   "metadata": {},
   "source": [
    "#### Python Notes\n",
    "In this code, `pd.read_csv(train.csv)` loads the `train.csv` data file into the `train` variable. (The `train.csv` file is stored in this lab.)\n",
    "\n",
    "The following lines show the summary train data:\n",
    "```python\n",
    "duration = train['trip_duration']\n",
    "print(duration.describe()) # summary stats\n",
    "```\n",
    "\n",
    "#### read_csv Method Documentation\n",
    "Run the following cell to see documentation for the `read_csv` method.\n"
   ]
  },
  {
   "cell_type": "code",
   "execution_count": null,
   "metadata": {},
   "outputs": [],
   "source": [
    "import pandas as pd\n",
    "?pd.read_csv\n",
    "#?pd.DataFrame.describe"
   ]
  },
  {
   "cell_type": "markdown",
   "metadata": {},
   "source": [
    "### Step 2. Create a Box and Whisker Plot\n",
    "To create a box and whisker plot of this train data, run the following code cell.\n",
    "\n",
    "For more information about the code, see **Python Notes** and **Box Plot Documentation** below the code cell."
   ]
  },
  {
   "cell_type": "code",
   "execution_count": null,
   "metadata": {},
   "outputs": [],
   "source": [
    "fig = plt.figure()\n",
    "fig.suptitle(\"NYC Train Trip Duration\")\n",
    "ax = fig.add_subplot(111)\n",
    "duration = train['trip_duration']\n",
    "# Create a variable with the number of observations in the duration.\n",
    "count_duration = len(duration)\n",
    "\n",
    "# lambda gives another way to define a function. So, we can call\n",
    "# perc(22) and it will substitute 22 for x.\n",
    "# perc(x) returns the value that is greater than x% of the data.\n",
    "perc = lambda x: sorted(duration)[int(count_duration*x/100)-1]\n",
    "\n",
    "# bottom of box.\n",
    "ax.annotate('25th percentile', xy=(1.1, perc(25)), xytext=(1.25, perc(25)),\n",
    "            arrowprops=dict(facecolor='black', shrink=0.05))\n",
    "\n",
    "#---------------Enter your code here---------------#\n",
    "# top of box\n",
    "ax.annotate('75th percentile', xy=(1.1, perc(75)), xytext=(1.25, perc(75)),\n",
    "            arrowprops=dict(facecolor='black', shrink=0.05))\n",
    "\n",
    "#--------------------------------------------------#\n",
    "\n",
    "# There are an equal number of points greater than and less than the median\n",
    "# line in the box.\n",
    "# sorted() sorts duration from least to greatest.\n",
    "median = sorted(duration)[int(count_duration/2)-1]\n",
    "\n",
    "# Create a line within the box.\n",
    "ax.annotate('median', xy=(1.1, median), xytext=(1.25, median),\n",
    "            arrowprops=dict(facecolor='black', shrink=0.05))\n",
    "\n",
    "# Choose the percentiles where you want set the whiskers.\n",
    "# NOTE - style - same comment as before (var assignments).\n",
    "whiskers = one, two = [5,95]\n",
    "\n",
    "# Whisker 1.\n",
    "ax.annotate(str(one)+'th percentile', xy=(1.05, perc(one)), xytext=(1.25, perc(one)),\n",
    "            arrowprops=dict(facecolor='black', shrink=0.05))\n",
    "# Whisker 2.\n",
    "ax.annotate(str(two)+'th percentile', xy=(1.05, perc(two)), xytext=(1.25, perc(two)),\n",
    "            arrowprops=dict(facecolor='black', shrink=0.05))\n",
    "# Add the y axis.\n",
    "plt.ylabel('Duration (seconds)')\n",
    "\n",
    "#---------------Enter your code here---------------#\n",
    "\n",
    "# The boxplot call.\n",
    "plt.boxplot(duration, whis=whiskers)\n",
    "\n",
    "# Display the plot. \n",
    "plt.show()\n",
    "#--------------------------------------------------#"
   ]
  },
  {
   "cell_type": "markdown",
   "metadata": {},
   "source": [
    "#### Python Notes\n",
    "We use the `ad.annotate()` method to add arrows pointing to different percentiles in the box plot.\n",
    "\n",
    "We use `plt.boxplot(duration, whis=whiskers)` to generate and show the box plot for duration data.\n",
    "\n",
    "#### Box Plot Documentation\n",
    "Run the following cell to access documentation for box plots."
   ]
  },
  {
   "cell_type": "code",
   "execution_count": null,
   "metadata": {},
   "outputs": [],
   "source": [
    "?plt.boxplot"
   ]
  },
  {
   "cell_type": "markdown",
   "metadata": {},
   "source": [
    "### Step 3. Refine the Box and Whisker Plot\n",
    "In the box plot we just created, the data is so spread out that we cannot see the box. This is the result of outliers, which we can remove from our plot.\n",
    "\n",
    "Run the following code cell to create a box plot with the outliers removed.\n",
    "\n",
    "For more information about the code, see **Python Notes** below the code cell."
   ]
  },
  {
   "cell_type": "code",
   "execution_count": null,
   "metadata": {
    "attributes": {
     "classes": [],
     "id": "",
     "n": "9"
    }
   },
   "outputs": [],
   "source": [
    "import pandas as pd\n",
    "import matplotlib.pyplot as plt\n",
    "%matplotlib inline\n",
    "\n",
    "train = pd.read_csv('train.csv')\n",
    "duration = train['trip_duration']\n",
    "print(duration.describe()) # summary stats\n",
    "\n",
    "# Think of plt.figure as the frame of a picture.\n",
    "fig = plt.figure()\n",
    "fig.suptitle(\"NYC Taxi Trip Duration\")\n",
    "# Think of ax as the picture within the frame.\n",
    "ax = fig.add_subplot(111)\n",
    "\n",
    "# Create a variable with the number of observations in the duration.\n",
    "count_duration = len(duration)\n",
    "\n",
    "# lambda gives another way to define a function. So, we can call\n",
    "# perc(22) and it will substitute 22 for x.\n",
    "# perc(x) returns the value that is greater than x% of the data.\n",
    "perc = lambda x: sorted(duration)[int(count_duration*x/100)-1]\n",
    "\n",
    "# The bottom of the box.\n",
    "ax.annotate('25th percentile', xy=(1.1, perc(25)), xytext=(1.25, perc(25)),\n",
    "            arrowprops=dict(facecolor='black', shrink=0.05))\n",
    "# The top of the box.\n",
    "ax.annotate('75th percentile', xy=(1.1, perc(75)), xytext=(1.25, perc(75)),\n",
    "            arrowprops=dict(facecolor='black', shrink=0.05))\n",
    "\n",
    "# There are an equal number of points greater than and less than the median\n",
    "# line in the box.\n",
    "# sorted() sorts the duration from least to greatest.\n",
    "median = sorted(duration)[int(count_duration/2)-1]\n",
    "\n",
    "# A line within the box.\n",
    "ax.annotate('median', xy=(1.1, median), xytext=(1.25, median),\n",
    "            arrowprops=dict(facecolor='black', shrink=0.05))\n",
    "\n",
    "# Choose the percentiles where you want set the whiskers.\n",
    "whiskers = one, two = [5,95]\n",
    "\n",
    "# Whisker 1.\n",
    "ax.annotate(str(one)+'th percentile', xy=(1.05, perc(one)), xytext=(1.25, perc(one)),\n",
    "            arrowprops=dict(facecolor='black', shrink=0.05))\n",
    "# Whisker 2.\n",
    "ax.annotate(str(two)+'th percentile', xy=(1.05, perc(two)), xytext=(1.25, perc(two)),\n",
    "            arrowprops=dict(facecolor='black', shrink=0.05))\n",
    "plt.ylabel(\"Duration (seconds)\")\n",
    "#---------------Enter your code here---------------#\n",
    "\n",
    "# The call to the box plot.\n",
    "plt.boxplot(duration, whis=whiskers, showfliers=False)\n",
    "\n",
    "# Display the plot.\n",
    "plt.show()\n",
    "#--------------------------------------------------#"
   ]
  },
  {
   "cell_type": "markdown",
   "metadata": {},
   "source": [
    "#### Python Notes\n",
    "We remove the outliers from our plot by adding the `showfliers` flag to `plt.boxplot()`.\n"
   ]
  },
  {
   "cell_type": "markdown",
   "metadata": {},
   "source": [
    "## Bar Chart: Number of Trains with 'n' Passengers\n",
    "\n",
    "This visualization is a bar chart of the number of rides with different numbers ('n') of passengers. This visualization has two steps.\n",
    "1. Load the train data.\n",
    "2. Create a bar chart.\n",
    "\n",
    "### Step 1. Load the Train Data\n",
    "\n",
    "To load the train data, follow these steps.\n",
    "\n",
    "1. In the following code cell, edit the `passenger_count =` line to group the results by `passenger_count` using the `groupby` method. \n",
    "\n",
    "   To do this, either replace the `passenger_count =` line in the code cell with the following line, or add your own code.\n",
    "\n",
    "    `passenger_count = train.groupby('passenger_count').count().id`\n",
    "\n",
    "   For more information, see **Python Notes** and **groupby Documentation** below the code cell.\n",
    "\n",
    "2. Run the code cell."
   ]
  },
  {
   "cell_type": "code",
   "execution_count": null,
   "metadata": {
    "attributes": {
     "classes": [],
     "id": "",
     "n": "2"
    }
   },
   "outputs": [],
   "source": [
    "# Load libraries that allow us to access pre-made functions.\n",
    "import pandas as pd\n",
    "import numpy as np\n",
    "import matplotlib.pyplot as plt\n",
    "# seaborn is an API built on top of matplotlib.\n",
    "# It creates more aesthetically appealing plots and simplifies some things.\n",
    "# Read more about what an API is here:\n",
    "# https://en.wikipedia.org/wiki/Application_programming_interface\n",
    "import seaborn as sns; sns.set()\n",
    "%matplotlib inline\n",
    "\n",
    "# Load the NYC train data.\n",
    "# Remember to move train.csv to your current working directory.\n",
    "train = pd.read_csv('train.csv')\n",
    "# groupby is similar to a pivot table in Microsoft Excel.\n",
    "# groupby groups all rows together that correspond to each unique value \n",
    "# of passenger count.\n",
    "# count() collapses all the rows into the number of rows for each group.\n",
    "# ['passenger_count'] returns the column we want.\n",
    "\n",
    "#---------------- Edit the following line ----------------#\n",
    "passenger_count = \n",
    "#---------------------------------------------------------#\n",
    "\n",
    "# Display passenger_count.\n",
    "passenger_count"
   ]
  },
  {
   "cell_type": "markdown",
   "metadata": {},
   "source": [
    "#### Python Notes\n",
    "\n",
    "We use `pd.DataFrame.groupby` to get a count of the number of rides that occur with 0, 1, 2, etc. passengers. \n",
    "\n",
    "#### groupby Documentation\n",
    "For more information about `groupby`, see https://www.tutorialspoint.com/python_pandas/python_pandas_groupby.htm, or run the following cell to access `groupby` documentation."
   ]
  },
  {
   "cell_type": "code",
   "execution_count": null,
   "metadata": {},
   "outputs": [],
   "source": [
    "import pandas as pd\n",
    "?pd.DataFrame.groupby"
   ]
  },
  {
   "cell_type": "markdown",
   "metadata": {},
   "source": [
    "### Step 2. Create a Bar Chart\n",
    "\n",
    "Now that we've loaded passenger data and grouped the results by number of passengers, we can create a bar chart to show this data.\n",
    "\n",
    "To create a bar chart, follow these steps.\n",
    "1. In the following code cell, write the call to the `ax.bar()` method to create the bar chart for the number of rides that have specific passenger counts. \n",
    "\n",
    "   To do this, either replace the `rect = ax.bar()` line in the code with the following lines, or write your own call.\n",
    "\n",
    "```python\n",
    "rect = ax.bar(index, passenger_count, bar_width,\n",
    "              alpha=opacity, color='b')\n",
    "```\n",
    "   For more information, see **bar Method Documentation** below the code cell.\n",
    "   \n",
    "2. Run the code cell."
   ]
  },
  {
   "cell_type": "code",
   "execution_count": null,
   "metadata": {
    "attributes": {
     "classes": [],
     "id": "",
     "n": "3"
    }
   },
   "outputs": [],
   "source": [
    "# These give us control of the title, x axis, y axis, etc.\n",
    "fig, ax = plt.subplots()\n",
    "bar_width=0.35\n",
    "opacity=0.4\n",
    "# shape[0] returns the number of rows/observations.\n",
    "# np.arange returns a generator [0, rows in passenger count - 1].\n",
    "index = np.arange(passenger_count.shape[0])\n",
    "\n",
    "# Create the passenger count bar.\n",
    "#------------------Enter your code here-------------------#\n",
    "rect = ax.bar()\n",
    "#---------------------------------------------------------#\n",
    "\n",
    "ax.set_xlabel('Passenger Count')\n",
    "ax.set_ylabel('Number of Rides')\n",
    "ax.set_title('Number of Rides with Each Passenger Count')\n",
    "\n",
    "fig.tight_layout()\n",
    "# a table form of our data\n",
    "print(passenger_count)\n",
    "plt.show()\n"
   ]
  },
  {
   "cell_type": "markdown",
   "metadata": {},
   "source": [
    "#### bar Method Documentation\n",
    "Run the following cell to access documentation for the `bar` method."
   ]
  },
  {
   "cell_type": "code",
   "execution_count": null,
   "metadata": {},
   "outputs": [],
   "source": [
    "import matplotlib.pyplot as plt\n",
    "fig, ax = plt.subplots()\n",
    "?ax.bar"
   ]
  },
  {
   "cell_type": "markdown",
   "metadata": {},
   "source": [
    "### Histogram: Trip Duration\n",
    "Finally, we will create a histogram that shows trip duration.\n",
    "\n",
    "To create the histogram, follow these steps.\n",
    "\n",
    "1. In the following code cell, edit the call to the `plt.hist()` method.\n",
    "\n",
    "   To do this, either replace the `plt.hist()` line with the following line, or enter your own call.\n",
    "   \n",
    "   `plt.hist(np.log(train['trip_duration']), bins='auto', color='black')``\n",
    "\n",
    "   For more information, see **Python Notes** below the code cell.\n",
    "   \n",
    "2. Run the code cell."
   ]
  },
  {
   "cell_type": "code",
   "execution_count": 1,
   "metadata": {
    "attributes": {
     "classes": [],
     "id": "",
     "n": "50"
    }
   },
   "outputs": [
    {
     "ename": "FileNotFoundError",
     "evalue": "File b'train.csv' does not exist",
     "output_type": "error",
     "traceback": [
      "\u001b[0;31m---------------------------------------------------------------------------\u001b[0m",
      "\u001b[0;31mFileNotFoundError\u001b[0m                         Traceback (most recent call last)",
      "\u001b[0;32m<ipython-input-1-597cd73d9dd3>\u001b[0m in \u001b[0;36m<module>\u001b[0;34m\u001b[0m\n\u001b[1;32m      4\u001b[0m \u001b[0;32mimport\u001b[0m \u001b[0mnumpy\u001b[0m \u001b[0;32mas\u001b[0m \u001b[0mnp\u001b[0m\u001b[0;34m\u001b[0m\u001b[0;34m\u001b[0m\u001b[0m\n\u001b[1;32m      5\u001b[0m \u001b[0;34m\u001b[0m\u001b[0m\n\u001b[0;32m----> 6\u001b[0;31m \u001b[0mtrain\u001b[0m \u001b[0;34m=\u001b[0m \u001b[0mpd\u001b[0m\u001b[0;34m.\u001b[0m\u001b[0mread_csv\u001b[0m\u001b[0;34m(\u001b[0m\u001b[0;34m'train.csv'\u001b[0m\u001b[0;34m)\u001b[0m\u001b[0;34m\u001b[0m\u001b[0;34m\u001b[0m\u001b[0m\n\u001b[0m\u001b[1;32m      7\u001b[0m \u001b[0;34m\u001b[0m\u001b[0m\n\u001b[1;32m      8\u001b[0m \u001b[0mfig\u001b[0m \u001b[0;34m=\u001b[0m \u001b[0mplt\u001b[0m\u001b[0;34m.\u001b[0m\u001b[0mfigure\u001b[0m\u001b[0;34m(\u001b[0m\u001b[0;34m)\u001b[0m\u001b[0;34m\u001b[0m\u001b[0;34m\u001b[0m\u001b[0m\n",
      "\u001b[0;32m/anaconda3/lib/python3.7/site-packages/pandas/io/parsers.py\u001b[0m in \u001b[0;36mparser_f\u001b[0;34m(filepath_or_buffer, sep, delimiter, header, names, index_col, usecols, squeeze, prefix, mangle_dupe_cols, dtype, engine, converters, true_values, false_values, skipinitialspace, skiprows, nrows, na_values, keep_default_na, na_filter, verbose, skip_blank_lines, parse_dates, infer_datetime_format, keep_date_col, date_parser, dayfirst, iterator, chunksize, compression, thousands, decimal, lineterminator, quotechar, quoting, escapechar, comment, encoding, dialect, tupleize_cols, error_bad_lines, warn_bad_lines, skipfooter, doublequote, delim_whitespace, low_memory, memory_map, float_precision)\u001b[0m\n\u001b[1;32m    676\u001b[0m                     skip_blank_lines=skip_blank_lines)\n\u001b[1;32m    677\u001b[0m \u001b[0;34m\u001b[0m\u001b[0m\n\u001b[0;32m--> 678\u001b[0;31m         \u001b[0;32mreturn\u001b[0m \u001b[0m_read\u001b[0m\u001b[0;34m(\u001b[0m\u001b[0mfilepath_or_buffer\u001b[0m\u001b[0;34m,\u001b[0m \u001b[0mkwds\u001b[0m\u001b[0;34m)\u001b[0m\u001b[0;34m\u001b[0m\u001b[0;34m\u001b[0m\u001b[0m\n\u001b[0m\u001b[1;32m    679\u001b[0m \u001b[0;34m\u001b[0m\u001b[0m\n\u001b[1;32m    680\u001b[0m     \u001b[0mparser_f\u001b[0m\u001b[0;34m.\u001b[0m\u001b[0m__name__\u001b[0m \u001b[0;34m=\u001b[0m \u001b[0mname\u001b[0m\u001b[0;34m\u001b[0m\u001b[0;34m\u001b[0m\u001b[0m\n",
      "\u001b[0;32m/anaconda3/lib/python3.7/site-packages/pandas/io/parsers.py\u001b[0m in \u001b[0;36m_read\u001b[0;34m(filepath_or_buffer, kwds)\u001b[0m\n\u001b[1;32m    438\u001b[0m \u001b[0;34m\u001b[0m\u001b[0m\n\u001b[1;32m    439\u001b[0m     \u001b[0;31m# Create the parser.\u001b[0m\u001b[0;34m\u001b[0m\u001b[0;34m\u001b[0m\u001b[0;34m\u001b[0m\u001b[0m\n\u001b[0;32m--> 440\u001b[0;31m     \u001b[0mparser\u001b[0m \u001b[0;34m=\u001b[0m \u001b[0mTextFileReader\u001b[0m\u001b[0;34m(\u001b[0m\u001b[0mfilepath_or_buffer\u001b[0m\u001b[0;34m,\u001b[0m \u001b[0;34m**\u001b[0m\u001b[0mkwds\u001b[0m\u001b[0;34m)\u001b[0m\u001b[0;34m\u001b[0m\u001b[0;34m\u001b[0m\u001b[0m\n\u001b[0m\u001b[1;32m    441\u001b[0m \u001b[0;34m\u001b[0m\u001b[0m\n\u001b[1;32m    442\u001b[0m     \u001b[0;32mif\u001b[0m \u001b[0mchunksize\u001b[0m \u001b[0;32mor\u001b[0m \u001b[0miterator\u001b[0m\u001b[0;34m:\u001b[0m\u001b[0;34m\u001b[0m\u001b[0;34m\u001b[0m\u001b[0m\n",
      "\u001b[0;32m/anaconda3/lib/python3.7/site-packages/pandas/io/parsers.py\u001b[0m in \u001b[0;36m__init__\u001b[0;34m(self, f, engine, **kwds)\u001b[0m\n\u001b[1;32m    785\u001b[0m             \u001b[0mself\u001b[0m\u001b[0;34m.\u001b[0m\u001b[0moptions\u001b[0m\u001b[0;34m[\u001b[0m\u001b[0;34m'has_index_names'\u001b[0m\u001b[0;34m]\u001b[0m \u001b[0;34m=\u001b[0m \u001b[0mkwds\u001b[0m\u001b[0;34m[\u001b[0m\u001b[0;34m'has_index_names'\u001b[0m\u001b[0;34m]\u001b[0m\u001b[0;34m\u001b[0m\u001b[0;34m\u001b[0m\u001b[0m\n\u001b[1;32m    786\u001b[0m \u001b[0;34m\u001b[0m\u001b[0m\n\u001b[0;32m--> 787\u001b[0;31m         \u001b[0mself\u001b[0m\u001b[0;34m.\u001b[0m\u001b[0m_make_engine\u001b[0m\u001b[0;34m(\u001b[0m\u001b[0mself\u001b[0m\u001b[0;34m.\u001b[0m\u001b[0mengine\u001b[0m\u001b[0;34m)\u001b[0m\u001b[0;34m\u001b[0m\u001b[0;34m\u001b[0m\u001b[0m\n\u001b[0m\u001b[1;32m    788\u001b[0m \u001b[0;34m\u001b[0m\u001b[0m\n\u001b[1;32m    789\u001b[0m     \u001b[0;32mdef\u001b[0m \u001b[0mclose\u001b[0m\u001b[0;34m(\u001b[0m\u001b[0mself\u001b[0m\u001b[0;34m)\u001b[0m\u001b[0;34m:\u001b[0m\u001b[0;34m\u001b[0m\u001b[0;34m\u001b[0m\u001b[0m\n",
      "\u001b[0;32m/anaconda3/lib/python3.7/site-packages/pandas/io/parsers.py\u001b[0m in \u001b[0;36m_make_engine\u001b[0;34m(self, engine)\u001b[0m\n\u001b[1;32m   1012\u001b[0m     \u001b[0;32mdef\u001b[0m \u001b[0m_make_engine\u001b[0m\u001b[0;34m(\u001b[0m\u001b[0mself\u001b[0m\u001b[0;34m,\u001b[0m \u001b[0mengine\u001b[0m\u001b[0;34m=\u001b[0m\u001b[0;34m'c'\u001b[0m\u001b[0;34m)\u001b[0m\u001b[0;34m:\u001b[0m\u001b[0;34m\u001b[0m\u001b[0;34m\u001b[0m\u001b[0m\n\u001b[1;32m   1013\u001b[0m         \u001b[0;32mif\u001b[0m \u001b[0mengine\u001b[0m \u001b[0;34m==\u001b[0m \u001b[0;34m'c'\u001b[0m\u001b[0;34m:\u001b[0m\u001b[0;34m\u001b[0m\u001b[0;34m\u001b[0m\u001b[0m\n\u001b[0;32m-> 1014\u001b[0;31m             \u001b[0mself\u001b[0m\u001b[0;34m.\u001b[0m\u001b[0m_engine\u001b[0m \u001b[0;34m=\u001b[0m \u001b[0mCParserWrapper\u001b[0m\u001b[0;34m(\u001b[0m\u001b[0mself\u001b[0m\u001b[0;34m.\u001b[0m\u001b[0mf\u001b[0m\u001b[0;34m,\u001b[0m \u001b[0;34m**\u001b[0m\u001b[0mself\u001b[0m\u001b[0;34m.\u001b[0m\u001b[0moptions\u001b[0m\u001b[0;34m)\u001b[0m\u001b[0;34m\u001b[0m\u001b[0;34m\u001b[0m\u001b[0m\n\u001b[0m\u001b[1;32m   1015\u001b[0m         \u001b[0;32melse\u001b[0m\u001b[0;34m:\u001b[0m\u001b[0;34m\u001b[0m\u001b[0;34m\u001b[0m\u001b[0m\n\u001b[1;32m   1016\u001b[0m             \u001b[0;32mif\u001b[0m \u001b[0mengine\u001b[0m \u001b[0;34m==\u001b[0m \u001b[0;34m'python'\u001b[0m\u001b[0;34m:\u001b[0m\u001b[0;34m\u001b[0m\u001b[0;34m\u001b[0m\u001b[0m\n",
      "\u001b[0;32m/anaconda3/lib/python3.7/site-packages/pandas/io/parsers.py\u001b[0m in \u001b[0;36m__init__\u001b[0;34m(self, src, **kwds)\u001b[0m\n\u001b[1;32m   1706\u001b[0m         \u001b[0mkwds\u001b[0m\u001b[0;34m[\u001b[0m\u001b[0;34m'usecols'\u001b[0m\u001b[0;34m]\u001b[0m \u001b[0;34m=\u001b[0m \u001b[0mself\u001b[0m\u001b[0;34m.\u001b[0m\u001b[0musecols\u001b[0m\u001b[0;34m\u001b[0m\u001b[0;34m\u001b[0m\u001b[0m\n\u001b[1;32m   1707\u001b[0m \u001b[0;34m\u001b[0m\u001b[0m\n\u001b[0;32m-> 1708\u001b[0;31m         \u001b[0mself\u001b[0m\u001b[0;34m.\u001b[0m\u001b[0m_reader\u001b[0m \u001b[0;34m=\u001b[0m \u001b[0mparsers\u001b[0m\u001b[0;34m.\u001b[0m\u001b[0mTextReader\u001b[0m\u001b[0;34m(\u001b[0m\u001b[0msrc\u001b[0m\u001b[0;34m,\u001b[0m \u001b[0;34m**\u001b[0m\u001b[0mkwds\u001b[0m\u001b[0;34m)\u001b[0m\u001b[0;34m\u001b[0m\u001b[0;34m\u001b[0m\u001b[0m\n\u001b[0m\u001b[1;32m   1709\u001b[0m \u001b[0;34m\u001b[0m\u001b[0m\n\u001b[1;32m   1710\u001b[0m         \u001b[0mpassed_names\u001b[0m \u001b[0;34m=\u001b[0m \u001b[0mself\u001b[0m\u001b[0;34m.\u001b[0m\u001b[0mnames\u001b[0m \u001b[0;32mis\u001b[0m \u001b[0;32mNone\u001b[0m\u001b[0;34m\u001b[0m\u001b[0;34m\u001b[0m\u001b[0m\n",
      "\u001b[0;32mpandas/_libs/parsers.pyx\u001b[0m in \u001b[0;36mpandas._libs.parsers.TextReader.__cinit__\u001b[0;34m()\u001b[0m\n",
      "\u001b[0;32mpandas/_libs/parsers.pyx\u001b[0m in \u001b[0;36mpandas._libs.parsers.TextReader._setup_parser_source\u001b[0;34m()\u001b[0m\n",
      "\u001b[0;31mFileNotFoundError\u001b[0m: File b'train.csv' does not exist"
     ]
    }
   ],
   "source": [
    "# Histogram Exercise\n",
    "import pandas as pd\n",
    "import matplotlib.pyplot as plt\n",
    "import numpy as np\n",
    "\n",
    "train = pd.read_csv('train.csv')\n",
    "\n",
    "fig = plt.figure()\n",
    "fig.suptitle('Trip Duration')\n",
    "# Bunch all the values closer together.\n",
    "# If you plot raw values, the resultant graph isn't very good and takes a while to load.\n",
    "\n",
    "#------------- Edit the following line --------------------------#\n",
    "plt.hist() \n",
    "#----------------------------------------------------------------#\n",
    "\n",
    "plt.xlabel('ln(Duration in Seconds)')\n",
    "plt.ylabel('Count')\n",
    "plt.show()"
   ]
  },
  {
   "cell_type": "markdown",
   "metadata": {},
   "source": [
    "#### Python Notes\n",
    "\n",
    "Taking the log may make the values easier to interpret in the final graph."
   ]
  },
  {
   "cell_type": "markdown",
   "metadata": {},
   "source": [
    "#### Most likely trip duration\n",
    "Using the histogram above, what's the most likely trip duration in seconds?\n",
    "Enter your answer as a parameter to `np.exp()`, then run the cell below."
   ]
  },
  {
   "cell_type": "code",
   "execution_count": null,
   "metadata": {
    "attributes": {
     "classes": [],
     "id": "",
     "n": "21"
    }
   },
   "outputs": [],
   "source": [
    "\n",
    "#------------- Edit the following line ----------------#\n",
    "\n",
    "# Enter your answer for most likely trip duration.\n",
    "import numpy as np\n",
    "np.exp()\n",
    "#-----------------------------------------------------#"
   ]
  }
 ],
 "metadata": {
  "kernelspec": {
   "display_name": "Python 3",
   "language": "python",
   "name": "python3"
  },
  "language_info": {
   "codemirror_mode": {
    "name": "ipython",
    "version": 3
   },
   "file_extension": ".py",
   "mimetype": "text/x-python",
   "name": "python",
   "nbconvert_exporter": "python",
   "pygments_lexer": "ipython3",
   "version": "3.7.1"
  }
 },
 "nbformat": 4,
 "nbformat_minor": 2
}
