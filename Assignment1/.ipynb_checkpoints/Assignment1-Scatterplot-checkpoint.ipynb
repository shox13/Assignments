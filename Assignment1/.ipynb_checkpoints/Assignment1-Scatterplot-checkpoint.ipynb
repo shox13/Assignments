{
 "cells": [
  {
   "cell_type": "markdown",
   "metadata": {},
   "source": [
    "# Exercise goals\n",
    "In this exercise, we will use Python to build scatter plots of data. A scatter plot is used for data with two independent variables (x,y).\n",
    "\n",
    "In the demo, we will use random data for the scatter plot.\n",
    "\n",
    "In the following exercise, we will use train pickup location data."
   ]
  },
  {
   "cell_type": "markdown",
   "metadata": {},
   "source": [
    "# Scatter plot demo\n",
    "Run the following cell to see a scatter plot demo.  \n",
    "\n",
    "The code will:\n",
    "- Generate 100 random points, each with an x and y coordinate\n",
    "- Classify each point as above `y=0` or below\n",
    "- Print out a sample of the points generated in a table"
   ]
  },
  {
   "cell_type": "code",
   "execution_count": null,
   "metadata": {
    "attributes": {
     "classes": [],
     "id": "",
     "n": "7"
    }
   },
   "outputs": [],
   "source": [
    "# Scatter Plot Demo\n",
    "# We continue to import our librarires to start\n",
    "import pandas as pd\n",
    "import matplotlib.pyplot as plt\n",
    "import numpy as np\n",
    "import seaborn as sns; sns.set()\n",
    "# bokeh is another plotting tool we have that comes from Javascript.\n",
    "# bokeh is a wrapper around that library in python\n",
    "# it improves aesthetics, simplicity, and allow us to plot large\n",
    "# amounts of data\n",
    "from bokeh.plotting import figure, output_notebook, show; output_notebook()\n",
    "\n",
    "# we create an easy way to return a set of size n random numbers\n",
    "def rup(n):\n",
    "    # returns a random number in [-1, 1)\n",
    "    return np.random.uniform(low=-1, high = 1, size=n)\n",
    "# we initialize 100 random points in the [-1,1] x [-1,1] plane\n",
    "data = pd.DataFrame({\"X\":rup(100), \"Y\":rup(100)})\n",
    "# this list will hold our labels for points above/below y=0\n",
    "label=[]\n",
    "# we iterate over the y-values\n",
    "for yval in data[\"Y\"]:\n",
    "    if yval > 0:           # the pt. is above y=0 if its y-value > 0\n",
    "        label.append('+')  # denote pts. above origin as '+'\n",
    "    else:\n",
    "        label.append('-')  # denote pts. below origin as '-'\n",
    "# add a column to our data with labels\n",
    "data['Label'] = label\n",
    "# the '+' labels will be grouped, followed by '-'\n",
    "data.sort_values(by=[\"Label\"], inplace=True)\n",
    "# this  resets the index \n",
    "# from disordered (34, 3, 8) to ordered (0, 1, 2)\n",
    "data.reset_index(drop=True, inplace=True)\n",
    "\n",
    "# seperate '+' from '-' entries\n",
    "ind=0\n",
    "# enumerate(['a', 'b', 'c']) --> [(0, 'a'), (1, 'b'), (2, 'c')]\n",
    "for i, val in enumerate(data['Label']):\n",
    "    # at what index do we change from '+' to '-'\n",
    "    if val == '-':\n",
    "        ind = i\n",
    "        # exit the for loop once you've found the transition\n",
    "        # break exits its innermost for loop\n",
    "        # so it doesn't matter that it's within an if here\n",
    "        break\n",
    "\n",
    "# see the point in data where labels switch\n",
    "data.iloc[i-1:i+1,:]"
   ]
  },
  {
   "cell_type": "markdown",
   "metadata": {},
   "source": [
    "# Code documentation\n",
    "Run the following cell to see docs for the Python `figure` class."
   ]
  },
  {
   "cell_type": "code",
   "execution_count": null,
   "metadata": {
    "attributes": {
     "classes": [],
     "id": "",
     "n": "6"
    }
   },
   "outputs": [],
   "source": [
    "from bokeh.plotting import figure\n",
    "?figure"
   ]
  },
  {
   "cell_type": "markdown",
   "metadata": {},
   "source": [
    "# Generate the scatter plot\n",
    "Run the following cell to generate a scatter plot based on the random data you just generated."
   ]
  },
  {
   "cell_type": "code",
   "execution_count": null,
   "metadata": {
    "attributes": {
     "classes": [],
     "id": "",
     "n": "9"
    }
   },
   "outputs": [],
   "source": [
    "# pixels of resulting image\n",
    "plot_width, plot_height = int(500), int(500)\n",
    "\n",
    "# these tools will allow you to move around within the plot, zoom in, or reset \n",
    "# to original image\n",
    "tools='pan, wheel_zoom, reset'\n",
    "p = figure(title = '100 Random Points',\n",
    "           tools=tools, plot_width=plot_width, plot_height=plot_height,\n",
    "           x_range=(-1,1), y_range=(-1,1))\n",
    "\n",
    "\n",
    "options1 = dict(line_color=None, fill_color='blue', size=5)\n",
    "# this plots points as circles\n",
    "# options1 gets added to the end\n",
    "p.circle(x=data.iloc[:i, 0], y=data.iloc[:i, 1], **options1)\n",
    "\n",
    "options2 = dict(line_color=None, fill_color='red', size=5)\n",
    "# this plots points as squares \n",
    "# options2 gets added to the end\n",
    "p.square(x=data.iloc[i:, 0], y=data.iloc[i:, 1], **options2)\n",
    "\n",
    "# creates a generate-similar to a list-from [-1,1) \n",
    "t=np.arange(-1,1,.05)\n",
    "\n",
    "# this plots y=0 at each point defined in t (-1, -.95, -.90, ...)\n",
    "p.line(t, np.zeros(len(t)))\n",
    "\n",
    "# this displays the plot\n",
    "show(p)"
   ]
  },
  {
   "cell_type": "markdown",
   "metadata": {},
   "source": [
    "# Scatter plot exercise\n",
    "In this exercise, we will use train data to create a scatter plot of pickup locations. We will add pickup points to a graph, with the longitude as `x` and latitude as `y`.\n",
    "\n",
    "## Load the data\n",
    "\n",
    "As the first step, run the cell below to load the train data into the variable `df`. The code then prints a summary of longitude and latidue data."
   ]
  },
  {
   "cell_type": "code",
   "execution_count": null,
   "metadata": {
    "attributes": {
     "classes": [],
     "id": "",
     "n": "10"
    }
   },
   "outputs": [],
   "source": [
    "# Scatter Plot Exercise\n",
    "# we continue with importing libraries to start\n",
    "import pandas as pd\n",
    "import matplotlib.pyplot as plt\n",
    "import numpy as np\n",
    "import seaborn as sns; sns.set()\n",
    "# output_notebook() is similar to %matplotlib inline\n",
    "# it embeds the plot within the notebook\n",
    "from bokeh.plotting import figure, output_notebook, show; output_notebook()\n",
    "\n",
    "df = pd.read_csv('train.csv')\n",
    "# lets get a better look at each variable\n",
    "print(df['pickup_longitude'].describe(),'\\n')\n",
    "print(df['pickup_latitude'].describe())"
   ]
  },
  {
   "cell_type": "markdown",
   "metadata": {},
   "source": [
    "# Code documentation\n",
    "Run the cell below to see documentation for the `circle()` method."
   ]
  },
  {
   "cell_type": "code",
   "execution_count": null,
   "metadata": {},
   "outputs": [],
   "source": [
    "?p.circle()"
   ]
  },
  {
   "cell_type": "markdown",
   "metadata": {},
   "source": [
    "# Create the scatter plot\n",
    "You will run the cell below to create a scatter plot of a sample of the train data pickup locations.\n",
    "\n",
    "First, you must set the values for the following lines:\n",
    "- Add parameters to the `c.circle()` . \n",
    "- Add values for `p.xaxis.axis_label` and `p.yaxis.axis_label`. Remember to put the values in quotation marks.\n",
    "\n",
    "**Hint** For the `circle` parameter, you want to use the pickup longitude and latitude of the data sample (`sample['pickup_longitude'], sample['pickup_latitude']`.\n",
    "\n",
    "Try it first.  You can check your code against the answer in the cell that follows."
   ]
  },
  {
   "cell_type": "code",
   "execution_count": null,
   "metadata": {
    "attributes": {
     "classes": [],
     "id": "",
     "n": "16"
    }
   },
   "outputs": [],
   "source": [
    "# pixel dimensions of resulting image\n",
    "plot_width, plot_height = int(500), int(500)\n",
    "p = figure(tools='pan,wheel_zoom,reset', plot_width=plot_width, plot_height=plot_height)\n",
    "\n",
    "# turn off gridlines\n",
    "p.xgrid.grid_line_color = None\n",
    "p.ygrid.grid_line_color = None\n",
    "\n",
    "# There are more than one million rows in our data.\n",
    "# We use the sample because it makes it a lot easier/faster for your comp\n",
    "# to display the graph without losing much meaning from the data. \n",
    "# use sample when you're plotting\n",
    "sample = df.sample(n=10000)\n",
    "\n",
    "options = dict(line_color=None, fill_color='blue', size=5)\n",
    "#\n",
    "#---------------Enter your code here------------------------#\n",
    "# plots each point as a small circle\n",
    "p.circle()\n",
    "# label the axes\n",
    "p.xaxis.axis_label = \n",
    "p.yaxis.axis_label = \n",
    "show(p)\n",
    "#-----------------------------------------------------------#\n"
   ]
  },
  {
   "cell_type": "markdown",
   "metadata": {},
   "source": [
    "# Answer code\n",
    "We used the following code in the cell above:\n",
    "\n",
    "```python\n",
    "#---------------Enter your code here------------------------#\n",
    "# plots each point as a small circle\n",
    "p.circle(x=sample['pickup_longitude'], y=sample['pickup_latitude'], **options)\n",
    "# label the axes\n",
    "p.xaxis.axis_label=\"Longitude\"\n",
    "p.yaxis.axis_label=\"Latitude\"\n",
    "show(p)\n",
    "#-----------------------------------------------------------#\n",
    "```"
   ]
  },
  {
   "cell_type": "markdown",
   "metadata": {},
   "source": [
    "# Zoom in on the scatter plot\n",
    "Now we can zoom in on the data to get a better view. You may get a sample that contains an\n",
    "outlier, which makes this especially relevant. \n",
    "\n",
    "By eye, enter an x and y range to zoom in on from the previous plot.\n",
    "\n",
    "**Hint** For the `x` and `y` variables, enter two numbers separated by a comma, such as `(1, 2)`. Don't forget that the range might be in negative numbers.\n",
    "\n",
    "Try it first.  You can check your code against the answer in the cell that follows."
   ]
  },
  {
   "cell_type": "code",
   "execution_count": null,
   "metadata": {},
   "outputs": [],
   "source": [
    "\n",
    "#----------------Enter your code here-------------#\n",
    "x=()\n",
    "y=()\n",
    "#-------------------------------------------------#\n",
    "c = figure(tools=tools, plot_width=plot_width, plot_height=plot_height, \n",
    "           x_range=x, y_range =y)\n",
    "\n",
    "sample = df.sample(n=10000)\n",
    "\n",
    "options = dict(line_color=None, fill_color='blue', size=5)\n",
    "# plots each point as a small circle\n",
    "c.circle(x=sample['pickup_longitude'], y=sample['pickup_latitude'], **options)\n",
    "c.xaxis.axis_label=\"Longitude\"\n",
    "c.yaxis.axis_label=\"Latitude\"\n",
    "show(c)"
   ]
  },
  {
   "cell_type": "markdown",
   "metadata": {},
   "source": [
    "# Answer code\n",
    "We used the following code in the cell above:\n",
    "\n",
    "```python\n",
    "#----------------Enter your code here-------------#\n",
    "x=(-74.2,-73.7)\n",
    "y=(40.6, 40.9)\n",
    "#-------------------------------------------------#\n",
    "```"
   ]
  }
 ],
 "metadata": {
  "kernelspec": {
   "display_name": "Python 3",
   "language": "python",
   "name": "python3"
  },
  "language_info": {
   "codemirror_mode": {
    "name": "ipython",
    "version": 3
   },
   "file_extension": ".py",
   "mimetype": "text/x-python",
   "name": "python",
   "nbconvert_exporter": "python",
   "pygments_lexer": "ipython3",
   "version": "3.7.1"
  }
 },
 "nbformat": 4,
 "nbformat_minor": 2
}
