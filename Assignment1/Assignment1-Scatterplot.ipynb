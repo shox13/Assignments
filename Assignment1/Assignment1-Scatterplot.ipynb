{
 "cells": [
  {
   "cell_type": "markdown",
   "metadata": {},
   "source": [
    "# Exploring and Visualizing Data: Scatter Plots\n",
    "In this exercise, we will explore a set of New York City train data. We will then use Python to create a **scatter plot** to visualize that data. \n",
    "\n",
    "A scatter plot is used for data with two independent variables. For example, you could use a scatter plot to show the height (x-axis) and weight (y-axis) of individuals:\n",
    "\n",
    "![sp]\n",
    "\n",
    "[sp]: https://chartio.com/images/tutorials/scatter-plot/Scatter-Plot-Weight-and-Height-Scatter-Plot-Trendline.png \"Scatter Plot Example\"\n",
    "\n",
    "A scatter plot shows how the two variables are correlated. To continue with the example above, the scatter plot shows  that, in general, weight increases as height increases. The correlation isn’t perfect; some taller people weight less than some shorter people.\n",
    "\n",
    "This exercise has three parts.\n",
    "1. Create a demo scatter plot using random data.\n",
    "2. Create a scatter plot that uses train pickup location data.\n",
    "3. Zoom in on the scatter plot to examine the data more closely.\n",
    "\n",
    "In this exercise, you will use the following elements. For more information about these elements, see the **Python Documentation** section at the end of the exercise.\n",
    "* `figure` class \n",
    "* `circle` method\n",
    "* `p.xaxis.axis_label`\n",
    "* `p.yaxis.axis_label`\n"
   ]
  },
  {
   "cell_type": "markdown",
   "metadata": {},
   "source": [
    "## Part 1. Create a Demo Scatter Plot\n",
    "This demo has two steps.\n",
    "1. Generate a set of 100 random points and create a table that lists two sample points.\n",
    "2. Generate a scatter plot based on the random data points."
   ]
  },
  {
   "cell_type": "markdown",
   "metadata": {},
   "source": [
    "### Step 1. Generate Points and Create a Table\n",
    "The following code cell:\n",
    "\n",
    "* Generates 100 random points, each with an x coordinate and y coordinate.\n",
    "* Classifies each point as above or below the y axis.\n",
    "* Prints out a table that lists two sample generated points.\n",
    "\n",
    "This code uses the Python `figure` class. For more information, see **Python Documentation** at the end of the exercise.\n",
    "\n",
    "To generate random points and create a table that shows two sample points, run the following code cell."
   ]
  },
  {
   "cell_type": "code",
   "execution_count": null,
   "metadata": {
    "attributes": {
     "classes": [],
     "id": "",
     "n": "7"
    }
   },
   "outputs": [],
   "source": [
    "# Scatter Plot Demo\n",
    "# Import libraries.\n",
    "import pandas as pd\n",
    "import matplotlib.pyplot as plt\n",
    "import numpy as np\n",
    "import seaborn as sns; sns.set()\n",
    "# bokeh is another plotting tool that comes from Javascript.\n",
    "# bokeh is a wrapper around that library in Python.\n",
    "# It improves aesthetics, simplifies the code, and allows us to plot large\n",
    "# amounts of data.\n",
    "from bokeh.plotting import figure, output_notebook, show; output_notebook()\n",
    "\n",
    "# We create an easy way to return a set of size n random numbers.\n",
    "def rup(n):\n",
    "    # Returns a random number in [-1, 1)\n",
    "    return np.random.uniform(low=-1, high = 1, size=n)\n",
    "# We initialize 100 random points in the [-1,1] x [-1,1] plane.\n",
    "data = pd.DataFrame({\"X\":rup(100), \"Y\":rup(100)})\n",
    "# This list will hold our labels for points above and below y=0.\n",
    "label=[]\n",
    "# We iterate over the y-values.\n",
    "for yval in data[\"Y\"]:\n",
    "    if yval > 0:           # The point is above y=0 if its y-value is greater than 0.\n",
    "        label.append('+')  # Denote points above the origin as '+'.\n",
    "    else:\n",
    "        label.append('-')  # Denote points below the origin as '-'.\n",
    "# Add a column to our data with labels.\n",
    "data['Label'] = label\n",
    "# The '+' labels will be grouped, followed by '-' labels.\n",
    "data.sort_values(by=[\"Label\"], inplace=True)\n",
    "# This  resets the index from disordered (34, 3, 8) to ordered (0, 1, 2).\n",
    "data.reset_index(drop=True, inplace=True)\n",
    "\n",
    "# Separate '+' from '-' entries.\n",
    "ind=0\n",
    "# Enumerate(['a', 'b', 'c']) as [(0, 'a'), (1, 'b'), (2, 'c')].\n",
    "for i, val in enumerate(data['Label']):\n",
    "    # Specify the index where we change from '+' to '-'.\n",
    "    if val == '-':\n",
    "        ind = i\n",
    "        # Exit the 'for' loop once you've found the transition.\n",
    "        # Break exits its innermost 'for' loop,\n",
    "        # so it doesn't matter that it's within an 'if' here.\n",
    "        break\n",
    "\n",
    "# See the point in the data where the labels switch.\n",
    "data.iloc[i-1:i+1,:]"
   ]
  },
  {
   "cell_type": "markdown",
   "metadata": {},
   "source": [
    "### Step 2. Generate the Scatter Plot\n",
    "Run the following code cell to create a scatter plot based on the random data that you just generated.\n",
    "\n",
    "In all likelyhood, the points will be randomly distributed and will not show a correlation (as height and weight typicallly would).\n",
    "\n",
    "Note the `circle` method in the code cell (the line that begins with `p.circle`). When you create a scatter plot in the exercise below, you will add your own parameters for this method. (We also provide a sample that you can use.)\n",
    "\n",
    "For more information about the circle method, see **Python Documentation** at the end of the exercise."
   ]
  },
  {
   "cell_type": "code",
   "execution_count": null,
   "metadata": {
    "attributes": {
     "classes": [],
     "id": "",
     "n": "9"
    }
   },
   "outputs": [],
   "source": [
    "# Size of the resulting image, in pixels.\n",
    "plot_width, plot_height = int(500), int(500)\n",
    "\n",
    "# These tools will allow you to move around within the plot, zoom in, or reset \n",
    "# to the original image.\n",
    "tools='pan, wheel_zoom, reset'\n",
    "p = figure(title = '100 Random Points',\n",
    "           tools=tools, plot_width=plot_width, plot_height=plot_height,\n",
    "           x_range=(-1,1), y_range=(-1,1))\n",
    "\n",
    "\n",
    "options1 = dict(line_color=None, fill_color='blue', size=5)\n",
    "# The circle method plots points as circles.\n",
    "# options1 is added to the end.\n",
    "p.circle(x=data.iloc[:i, 0], y=data.iloc[:i, 1], **options1)\n",
    "\n",
    "options2 = dict(line_color=None, fill_color='red', size=5)\n",
    "# The square method plots points as squares. \n",
    "# options2 is added to the end.\n",
    "p.square(x=data.iloc[i:, 0], y=data.iloc[i:, 1], **options2)\n",
    "\n",
    "# Creates a generate - similar to a list - from [-1,1). \n",
    "t=np.arange(-1,1,.05)\n",
    "\n",
    "# This plots y=0 at each point defined in t (-1, -.95, -.90, ...).\n",
    "p.line(t, np.zeros(len(t)))\n",
    "\n",
    "# This displays the plot.\n",
    "show(p)"
   ]
  },
  {
   "cell_type": "markdown",
   "metadata": {},
   "source": [
    "## Part 2. Create a Scatter Plot of Train Pickup Location Data\n",
    "\n",
    "In this exercise, we will use train data to create a scatter plot of pickup locations. We will add pickup points to a graph, with the longitude as x and latitude as y.\n",
    "\n",
    "This exercise has two steps.\n",
    "\n",
    "1. Load the train data.\n",
    "2. Create a scatter plot of train pickup location data."
   ]
  },
  {
   "cell_type": "markdown",
   "metadata": {},
   "source": [
    "### Step 1. Load the Train Data\n",
    "\n",
    "Run the following code cell. The code loads the train data into the `df` variable, and then prints a summary of longitude and latitude data."
   ]
  },
  {
   "cell_type": "code",
   "execution_count": null,
   "metadata": {
    "attributes": {
     "classes": [],
     "id": "",
     "n": "10"
    }
   },
   "outputs": [],
   "source": [
    "# Scatter Plot Exercise\n",
    "# Import libraries.\n",
    "import pandas as pd\n",
    "import matplotlib.pyplot as plt\n",
    "import numpy as np\n",
    "import seaborn as sns; sns.set()\n",
    "# output_notebook() is similar to %matplotlib inline.\n",
    "# It embeds the plot within the notebook.\n",
    "from bokeh.plotting import figure, output_notebook, show; output_notebook()\n",
    "\n",
    "df = pd.read_csv('train.csv')\n",
    "# Allows us to get a better look at each variable.\n",
    "print(df['pickup_longitude'].describe(),'\\n')\n",
    "print(df['pickup_latitude'].describe())"
   ]
  },
  {
   "cell_type": "markdown",
   "metadata": {},
   "source": [
    "### Step 2. Create a Scatter Plot of Train Pickup Location Data\n",
    "\n",
    "To create a scatter plot of train pickup location data, follow these steps.\n",
    "\n",
    "1. Specify that you want to plot each point as a small circle by adding parameters to the `circle` method. To do this, replace the `p.circle()` line in the code cell with your own code. \n",
    "   \n",
    "   Note: For the `circle` method parameters, use the pickup longitude and latitude of the data sample   (`sample['pickup_longitude']` and `sample['pickup_latitude']`).\n",
    "\n",
    "   To see the code that we used, see **Answer Code** below the code cell.\n",
    "\n",
    "   For more information about the `circle` method and its parameters, see **Python Documentation** at the end of the exercise.\n",
    "\n",
    "2. Add labels for the x and y axes. To do this, replace the `p.xaxis.axis_label =` and `p.yaxis.axis_label =` lines in the code cell with your own code.\n",
    "   \n",
    "   Note: Remember to enclose the label name in quotation marks (\").\n",
    "\n",
    "   To see the code that we used, see **Answer Code** below the code cell.\n",
    "   \n",
    "In the resulting scatter plot, you will see that most pickup locations are closely grouped, with some outliers."
   ]
  },
  {
   "cell_type": "code",
   "execution_count": null,
   "metadata": {
    "attributes": {
     "classes": [],
     "id": "",
     "n": "16"
    }
   },
   "outputs": [],
   "source": [
    "# Size of the resulting image, in pixels.\n",
    "plot_width, plot_height = int(500), int(500)\n",
    "p = figure(tools='pan,wheel_zoom,reset', plot_width=plot_width, plot_height=plot_height)\n",
    "\n",
    "# Turn off gridlines.\n",
    "p.xgrid.grid_line_color = None\n",
    "p.ygrid.grid_line_color = None\n",
    "\n",
    "# There are more than one million rows in our data.\n",
    "# We use the sample because it makes it a lot easier and faster for \n",
    "# your computer to display the graph without losing much meaning from\n",
    "# the data. \n",
    "# Use 'sample' when you're plotting.\n",
    "sample = df.sample(n=10000)\n",
    "\n",
    "options = dict(line_color=None, fill_color='blue', size=5)\n",
    "#\n",
    "#---------------Enter your code here------------------------#\n",
    "# Plot each point as a small circle.\n",
    "p.circle()\n",
    "# Label the axes.\n",
    "p.xaxis.axis_label = \n",
    "p.yaxis.axis_label = \n",
    "show(p)\n",
    "#-----------------------------------------------------------#\n"
   ]
  },
  {
   "cell_type": "markdown",
   "metadata": {},
   "source": [
    "#### Answer Code\n",
    "We used the following code in the code cell.\n",
    "\n",
    "```python\n",
    "#---------------Enter your code here------------------------#\n",
    "# Plot each point as a small circle.\n",
    "p.circle(x=sample['pickup_longitude'], y=sample['pickup_latitude'], **options)\n",
    "# Label the axes.\n",
    "p.xaxis.axis_label=\"Longitude\"\n",
    "p.yaxis.axis_label=\"Latitude\"\n",
    "show(p)\n",
    "#-----------------------------------------------------------#\n",
    "```"
   ]
  },
  {
   "cell_type": "markdown",
   "metadata": {},
   "source": [
    "## Part 3. Zoom In on the Scatter Plot\n",
    "\n",
    "Now that we've created a scatter plot, we can zoom in on the data to get a better view. Your sample may contain an outlier, which makes this especially relevant.\n",
    "\n",
    "To zoom in on the scatter plot, enter the x and y range that you want in the following code cell, and then run the code.\n",
    "\n",
    "**Note**: For the `x` and `y` variables, enter two numbers separated by a comma, such as `(1, 2)`. You can also use negative numbers. Examine the ranges in the x and y axes in the scatter plot above, and use values for the `x` and `y` variables below that are within those ranges.  You can also try different ranges to zoom in on different parts of the data.\n",
    "\n",
    "To see the code that we used, see **Answer Code** below the code cell."
   ]
  },
  {
   "cell_type": "code",
   "execution_count": null,
   "metadata": {},
   "outputs": [],
   "source": [
    "\n",
    "#----------------Enter your code here-------------#\n",
    "x=()\n",
    "y=()\n",
    "#-------------------------------------------------#\n",
    "c = figure(tools=tools, plot_width=plot_width, plot_height=plot_height, \n",
    "           x_range=x, y_range =y)\n",
    "\n",
    "sample = df.sample(n=10000)\n",
    "\n",
    "options = dict(line_color=None, fill_color='blue', size=5)\n",
    "# Plot each point as a small circle.\n",
    "c.circle(x=sample['pickup_longitude'], y=sample['pickup_latitude'], **options)\n",
    "c.xaxis.axis_label=\"Longitude\"\n",
    "c.yaxis.axis_label=\"Latitude\"\n",
    "show(c)"
   ]
  },
  {
   "cell_type": "markdown",
   "metadata": {},
   "source": [
    "### Answer code\n",
    "We used the following code in the code cell.\n",
    "\n",
    "```python\n",
    "#----------------Enter your code here-------------#\n",
    "x=(-74.1,-73.9)\n",
    "y=(40.7, 40.8)\n",
    "#-------------------------------------------------#\n",
    "```"
   ]
  },
  {
   "cell_type": "markdown",
   "metadata": {},
   "source": [
    "## Python Documentation\n",
    "Run the following cell to access documentation for the `figure` class."
   ]
  },
  {
   "cell_type": "code",
   "execution_count": null,
   "metadata": {},
   "outputs": [],
   "source": [
    "from bokeh.plotting import figure\n",
    "?figure"
   ]
  },
  {
   "cell_type": "markdown",
   "metadata": {},
   "source": [
    "Run the following cell to access documentation for the `circle` method."
   ]
  },
  {
   "cell_type": "code",
   "execution_count": null,
   "metadata": {},
   "outputs": [],
   "source": [
    "?p.circle()"
   ]
  }
 ],
 "metadata": {
  "kernelspec": {
   "display_name": "Python 2",
   "language": "python",
   "name": "python2"
  },
  "language_info": {
   "codemirror_mode": {
    "name": "ipython",
    "version": 2
   },
   "file_extension": ".py",
   "mimetype": "text/x-python",
   "name": "python",
   "nbconvert_exporter": "python",
   "pygments_lexer": "ipython2",
   "version": "2.7.15"
  }
 },
 "nbformat": 4,
 "nbformat_minor": 2
}
