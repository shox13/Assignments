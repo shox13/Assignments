{
 "cells": [
  {
   "cell_type": "markdown",
   "metadata": {},
   "source": [
    "# Exploring and Visualizing Data: Heat Map\n",
    "In this exercise, we will create a heat map. A heat map combines a scatter plot with a histogram. It shades each pixel based on its density. Businesses often use heat maps in various forms of analytics. A common use case is to show user behavior on specific web pages or in applications.\n",
    "\n",
    "Using the NYC taxi data again, we will create a heat map of dropoff latitude and longitude.\n",
    "\n",
    "This exercise has three parts.\n",
    "1. Create a demo heat map using the train data.\n",
    "2. Create a heat map that focuses in on where 90% of dropoffs occur.\n",
    "\n",
    "In this exercise, you will use the following elements. For more information about these elements, see the **Python Documentation** section at the end of the exercise.\n",
    "* `Canvas` class \n",
    "* `shade` method\n",
    "* `percentile` method"
   ]
  },
  {
   "cell_type": "markdown",
   "metadata": {},
   "source": [
    "# Part 1: Create the Demo Heat Map\n",
    "Run the following cell to create the heat map. The resulting heat map will show taxi dropoff locations; the brighter the area on the map, the more passengers were dropped off in that location. \n"
   ]
  },
  {
   "cell_type": "code",
   "execution_count": null,
   "metadata": {
    "attributes": {
     "classes": [],
     "id": "",
     "n": "1"
    }
   },
   "outputs": [],
   "source": [
    "# datashader allows us to handle data with many rows, like NYC Taxi\n",
    "# it uses bokeh for plotting functionality\n",
    "import datashader as ds\n",
    "from datashader.colors import Hot\n",
    "from datashader import transfer_functions as tf\n",
    "import numpy as np\n",
    "import pandas as pd\n",
    "\n",
    "# load data \n",
    "df = pd.read_csv('train.csv')\n",
    "\n",
    "plot_height, plot_width = int(500), int(500)\n",
    "\n",
    "# we use the range we found earlier\n",
    "x_range, y_range = ((-74.2,-73.7), (40.6, 40.9)) \n",
    "\n",
    "# this is analogous to plt.figure; it represents the frame for a picture\n",
    "cvs = ds.Canvas(plot_width=plot_width, plot_height=plot_height, x_range=x_range, y_range=y_range) \n",
    "\n",
    "# this plots dropoff long/lat and counts the # of points in each pixel\n",
    "# notice we don't graph a sample, but the whole dataset; that's the power of datashader.\n",
    "agg = cvs.points(df, 'dropoff_longitude', 'dropoff_latitude',  ds.count('passenger_count')) \n",
    "\n",
    "# this takes the counts from each pixel given by agg and shades them accordingly\n",
    "# set_background controls the background color\n",
    "# how controls the transition to different colors based on intensity of each pixel\n",
    "tf.set_background(tf.shade(agg, cmap=Hot, how='eq_hist'),\"black\")"
   ]
  },
  {
   "cell_type": "markdown",
   "metadata": {},
   "source": [
    "# Part 2: Heat Map Exercise\n",
    "Your task is to use the data provided to create a heat map using the cell above as a guide."
   ]
  },
  {
   "cell_type": "markdown",
   "metadata": {},
   "source": [
    "## Show Greater than 90th Percentile Dropoffs\n",
    "In the cell below, fill in the call to `agg.where` to show greater than 90th\n",
    "percentile dropoffs. You will need the following functions:\n",
    "\n",
    "- `np.percentile`\n",
    "- `pd.DataFrame.where`\n",
    "\n",
    "To see the code that we used, see **Answer Code** below the code cell."
   ]
  },
  {
   "cell_type": "code",
   "execution_count": null,
   "metadata": {
    "attributes": {
     "classes": [],
     "id": "",
     "n": "2"
    }
   },
   "outputs": [],
   "source": [
    "# datashader allows us to handle data with many rows, like NYC Taxi\n",
    "# it uses bokeh for plotting functionality\n",
    "import datashader as ds\n",
    "from datashader.colors import Hot\n",
    "from datashader import transfer_functions as tf\n",
    "import numpy as np\n",
    "import pandas as pd\n",
    "\n",
    "# load NYC Taxi train data \n",
    "df = pd.read_csv('train.csv')\n",
    "\n",
    "plot_height, plot_width = int(500), int(500)\n",
    "\n",
    "x_range, y_range = ((-74.2,-73.7), (40.6, 40.9)) \n",
    "\n",
    "# sets up frame for plot, analogous to plt.figure\n",
    "cvs = ds.Canvas(plot_width=plot_width, plot_height=plot_height, x_range=x_range, y_range=y_range) \n",
    "\n",
    "# plots dropoff lat/long and sums passenger_count for all points in each pixel\n",
    "agg = cvs.points(df, 'dropoff_longitude', 'dropoff_latitude',  ds.count('passenger_count')) \n",
    "\n",
    "#-----------------Your code here------------------------------#\n",
    "\n",
    "# fill in the call to agg.where to show 90th percentile or greater dropoffs\n",
    "tf.set_background(tf.shade(agg.where(), \n",
    "                  cmap=Hot, how='eq_hist'),\"black\")\n",
    "\n",
    "#-------------------------------------------------------------#"
   ]
  },
  {
   "cell_type": "markdown",
   "metadata": {},
   "source": [
    "# Answer code\n",
    "We used the following code in the cell above. Note the parameter for `agg.where()`.\n",
    "\n",
    "```python\n",
    "#-----------------Your code here------------------------------#\n",
    "\n",
    "# fill in the call to agg.where to show 90th percentile or greater dropoffs\n",
    "tf.set_background(tf.shade(agg.where(agg>np.percentile(agg,90)), \n",
    "                  cmap=Hot, how='eq_hist'),\"black\")\n",
    "\n",
    "#-------------------------------------------------------------#\n",
    "```"
   ]
  },
  {
   "cell_type": "markdown",
   "metadata": {},
   "source": [
    "# Thinking Ahead\n",
    "Eventually we will work on predicting trip duration based on\n",
    "pickup coordinates. This could be tackled many different ways, but the simplest\n",
    "is fitting a linear model to pickup coordinates and trip duration information.\n",
    "That's what we learn next week. Read further on linear models here:\n",
    "\n",
    "- https://www.kaggle.com/juliencs/a-study-on-regression-applied-to-the-ames-dataset\n",
    "\n",
    "# Privacy\n",
    "When the NYC Taxi & Limousine\n",
    "Commission or Stackoverflow\n",
    "release their data, they assume they're not harming\n",
    "their customers who provided\n",
    "that data. This isn't always safe to assume due to\n",
    "re-identification. You can\n",
    "read more at the following link:\n",
    "\n",
    "\n",
    "- https://www.georgetownlawtechreview.org/re-identification-of-anonymized-data/GLTR-04-2017/"
   ]
  },
  {
   "cell_type": "markdown",
   "metadata": {},
   "source": [
    "## Python Documentation\n",
    "Run the following cell to access documentation for the `Canvas` class."
   ]
  },
  {
   "cell_type": "code",
   "execution_count": null,
   "metadata": {},
   "outputs": [],
   "source": [
    "import datashader as ds\n",
    "from datashader import transfer_functions as tf\n",
    "?ds.Canvas"
   ]
  },
  {
   "cell_type": "markdown",
   "metadata": {},
   "source": [
    "Run the following cell to access documentation for the `shade` method."
   ]
  },
  {
   "cell_type": "code",
   "execution_count": null,
   "metadata": {},
   "outputs": [],
   "source": [
    "?tf.shade"
   ]
  },
  {
   "cell_type": "markdown",
   "metadata": {},
   "source": [
    "Run the following cell to access documentation for the `percentile` method."
   ]
  },
  {
   "cell_type": "code",
   "execution_count": null,
   "metadata": {},
   "outputs": [],
   "source": [
    "?np.percentile"
   ]
  }
 ],
 "metadata": {
  "kernelspec": {
   "display_name": "Python 2",
   "language": "python",
   "name": "python2"
  },
  "language_info": {
   "codemirror_mode": {
    "name": "ipython",
    "version": 2
   },
   "file_extension": ".py",
   "mimetype": "text/x-python",
   "name": "python",
   "nbconvert_exporter": "python",
   "pygments_lexer": "ipython2",
   "version": "2.7.15"
  }
 },
 "nbformat": 4,
 "nbformat_minor": 2
}
