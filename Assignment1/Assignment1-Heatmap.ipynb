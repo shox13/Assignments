{
 "cells": [
  {
   "cell_type": "markdown",
   "metadata": {},
   "source": [
    "# Exploring and Visualizing Data: Heat Map\n",
    "In this exercise, we will create a heat map. A heat map combines a scatter plot with a histogram. It shades each pixel based on its density. Businesses often use heat maps in various forms of analytics. A common use case is to show user behavior on specific web pages or in applications.\n",
    "\n",
    "Using the NYC taxi data again, we will create a heat map of drop-off latitude and longitude.\n",
    "\n",
    "This exercise has two parts.\n",
    "1. Create a demo heat map using the train data.\n",
    "2. Create a heat map that focuses on where 90% of drop-offs occur.\n",
    "\n",
    "In this exercise, you will use the following elements. For more information about these elements, see the **Python Documentation** section at the end of the exercise.\n",
    "* `Canvas` class \n",
    "* `shade` method\n",
    "* `percentile` method\n",
    "* `np.percentile`\n",
    "* `pd.DataFrame.where`"
   ]
  },
  {
   "cell_type": "markdown",
   "metadata": {},
   "source": [
    "## Part 1: Create the Demo Heat Map\n",
    "Run the following cell to create the heat map. The resulting heat map will show taxi drop-off locations; the brighter the area on the map, the more passengers were dropped off in that location. \n"
   ]
  },
  {
   "cell_type": "code",
   "execution_count": null,
   "metadata": {
    "attributes": {
     "classes": [],
     "id": "",
     "n": "1"
    }
   },
   "outputs": [],
   "source": [
    "# datashader allows us to handle data with many rows, like NYC Taxi.\n",
    "# it uses bokeh for plotting functionality.\n",
    "import datashader as ds\n",
    "from datashader.colors import Hot\n",
    "from datashader import transfer_functions as tf\n",
    "import numpy as np\n",
    "import pandas as pd\n",
    "\n",
    "# Load the data. \n",
    "df = pd.read_csv('train.csv')\n",
    "\n",
    "plot_height, plot_width = int(500), int(500)\n",
    "\n",
    "# Use the range we found earlier.\n",
    "x_range, y_range = ((-74.2,-73.7), (40.6, 40.9)) \n",
    "\n",
    "# This is analogous to plt.figure; it represents the frame for a picture.\n",
    "cvs = ds.Canvas(plot_width=plot_width, plot_height=plot_height, x_range=x_range, y_range=y_range) \n",
    "\n",
    "# This plots dropoff latitude and longitude, and counts the number of points in each pixel.\n",
    "# Notice we don't graph a sample, but the whole dataset; that's the power of datashader.\n",
    "agg = cvs.points(df, 'dropoff_longitude', 'dropoff_latitude',  ds.count('passenger_count')) \n",
    "\n",
    "# This takes the counts from each pixel given by agg and shades them accordingly.\n",
    "# set_background controls the background color.\n",
    "# how controls the transition to different colors based on intensity of each pixel.\n",
    "tf.set_background(tf.shade(agg, cmap=Hot, how='eq_hist'),\"black\")"
   ]
  },
  {
   "cell_type": "markdown",
   "metadata": {},
   "source": [
    "## Part 2: Create the Drop-off Heat Map\n",
    "\n",
    "To create a heat map that shows where more than 90% of drop-offs occur, follow these steps.\n",
    "\n",
    "1. In the following code cell, add the call to `agg.where` to show drop-offs that are in the 90th or greater percentile. To do this, replace the `tf.set_background(tf.shade(agg.where(),` line in the code cell with your own code.\n",
    "\n",
    "   **Note**: To see the code that we used, see **Answer Code** below the code cell.\n",
    "\n",
    "\n",
    "2. Run the code cell."
   ]
  },
  {
   "cell_type": "code",
   "execution_count": null,
   "metadata": {
    "attributes": {
     "classes": [],
     "id": "",
     "n": "2"
    }
   },
   "outputs": [],
   "source": [
    "# datashader allows us to handle data with many rows, like NYC Taxi\n",
    "# it uses bokeh for plotting functionality\n",
    "import datashader as ds\n",
    "from datashader.colors import Hot\n",
    "from datashader import transfer_functions as tf\n",
    "import numpy as np\n",
    "import pandas as pd\n",
    "\n",
    "# load NYC Taxi train data \n",
    "df = pd.read_csv('train.csv')\n",
    "\n",
    "plot_height, plot_width = int(500), int(500)\n",
    "\n",
    "x_range, y_range = ((-74.2,-73.7), (40.6, 40.9)) \n",
    "\n",
    "# sets up frame for plot, analogous to plt.figure\n",
    "cvs = ds.Canvas(plot_width=plot_width, plot_height=plot_height, x_range=x_range, y_range=y_range) \n",
    "\n",
    "# plots dropoff lat/long and sums passenger_count for all points in each pixel\n",
    "agg = cvs.points(df, 'dropoff_longitude', 'dropoff_latitude',  ds.count('passenger_count')) \n",
    "\n",
    "#-----------------Your code here------------------------------#\n",
    "\n",
    "# fill in the call to agg.where to show 90th percentile or greater dropoffs\n",
    "tf.set_background(tf.shade(agg.where(), \n",
    "                  cmap=Hot, how='eq_hist'),\"black\")\n",
    "\n",
    "#-------------------------------------------------------------#"
   ]
  },
  {
   "cell_type": "markdown",
   "metadata": {},
   "source": [
    "### Answer code\n",
    "We used the following code in the cell above. Note the parameter for `agg.where()`.\n",
    "\n",
    "```python\n",
    "#-----------------Your code here------------------------------#\n",
    "\n",
    "# fill in the call to agg.where to show 90th percentile or greater dropoffs\n",
    "tf.set_background(tf.shade(agg.where(agg>np.percentile(agg,90)), \n",
    "                  cmap=Hot, how='eq_hist'),\"black\")\n",
    "\n",
    "#-------------------------------------------------------------#\n",
    "```"
   ]
  },
  {
   "cell_type": "markdown",
   "metadata": {},
   "source": [
    "## Thinking Ahead\n",
    "\n",
    "Eventually, we will work on predicting trip duration based on pickup coordinates. This could be tackled many different ways, but the simplest is to fit a linear model to pickup coordinates and trip duration information. We'll learn more about this next week. \n",
    "\n",
    "For more information about linear models, see the following website.\n",
    "\n",
    "- https://www.kaggle.com/juliencs/a-study-on-regression-applied-to-the-ames-dataset\n",
    "\n",
    "## Privacy\n",
    "\n",
    "When the NYC Taxi and Limousine Commission or Stack Overflow release their data, they assume they're not harming their customers who provided that data. This isn't always safe to assume due to re-identification. For more information, see the following website.\n",
    "\n",
    "- https://www.georgetownlawtechreview.org/re-identification-of-anonymized-data/GLTR-04-2017/"
   ]
  },
  {
   "cell_type": "markdown",
   "metadata": {},
   "source": [
    "## Python Documentation\n",
    "Run the following cell to access documentation for the `Canvas` class."
   ]
  },
  {
   "cell_type": "code",
   "execution_count": null,
   "metadata": {},
   "outputs": [],
   "source": [
    "import datashader as ds\n",
    "from datashader import transfer_functions as tf\n",
    "?ds.Canvas"
   ]
  },
  {
   "cell_type": "markdown",
   "metadata": {},
   "source": [
    "Run the following cell to access documentation for the `shade` method."
   ]
  },
  {
   "cell_type": "code",
   "execution_count": null,
   "metadata": {},
   "outputs": [],
   "source": [
    "?tf.shade"
   ]
  },
  {
   "cell_type": "markdown",
   "metadata": {},
   "source": [
    "Run the following cell to access documentation for the `percentile` method."
   ]
  },
  {
   "cell_type": "code",
   "execution_count": null,
   "metadata": {},
   "outputs": [],
   "source": [
    "?np.percentile"
   ]
  }
 ],
 "metadata": {
  "kernelspec": {
   "display_name": "Python 3",
   "language": "python",
   "name": "python3"
  },
  "language_info": {
   "codemirror_mode": {
    "name": "ipython",
    "version": 3
   },
   "file_extension": ".py",
   "mimetype": "text/x-python",
   "name": "python",
   "nbconvert_exporter": "python",
   "pygments_lexer": "ipython3",
   "version": "3.7.1"
  }
 },
 "nbformat": 4,
 "nbformat_minor": 2
}
