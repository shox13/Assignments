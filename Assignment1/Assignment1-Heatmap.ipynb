{
 "cells": [
  {
   "cell_type": "markdown",
   "metadata": {},
   "source": [
    "# Exercise goals\n",
    "In this exercise, we will create a heat map. A heatmap combines a scatter plot with a histogram. It shades each pixel based on its density. \n",
    "\n",
    "Using the NYC train data again, we will create a heat map of dropoff latitude and longitude."
   ]
  },
  {
   "cell_type": "markdown",
   "metadata": {},
   "source": [
    "# Code documentation\n",
    "Run the following cell to see documentation for the Python `shade` method."
   ]
  },
  {
   "cell_type": "code",
   "execution_count": null,
   "metadata": {
    "attributes": {
     "classes": [],
     "id": "",
     "n": "8"
    }
   },
   "outputs": [],
   "source": [
    "import datashader as ds\n",
    "from datashader import transfer_functions as tf\n",
    "#?ds.Canvas\n",
    "#?ds.Canvas.points\n",
    "?tf.shade"
   ]
  },
  {
   "cell_type": "markdown",
   "metadata": {},
   "source": [
    "# Create the heat map\n",
    "Run the following cell to create the heat map."
   ]
  },
  {
   "cell_type": "code",
   "execution_count": null,
   "metadata": {
    "attributes": {
     "classes": [],
     "id": "",
     "n": "1"
    }
   },
   "outputs": [],
   "source": [
    "# datashader allows us to handle data with many rows, like NYC Taxi\n",
    "# it uses bokeh for plotting functionality\n",
    "import datashader as ds\n",
    "from datashader.colors import Hot\n",
    "from datashader import transfer_functions as tf\n",
    "import numpy as np\n",
    "import pandas as pd\n",
    "\n",
    "# load data \n",
    "df = pd.read_csv('train.csv')\n",
    "\n",
    "plot_height, plot_width = int(500), int(500)\n",
    "\n",
    "# we use the range we found earlier\n",
    "x_range, y_range = ((-74.2,-73.7), (40.6, 40.9)) \n",
    "\n",
    "# this is analogous to plt.figure; it represents the frame for a picture\n",
    "cvs = ds.Canvas(plot_width=plot_width, plot_height=plot_height, x_range=x_range, y_range=y_range) \n",
    "\n",
    "# this plots dropoff long/lat and counts the # of points in each pixel\n",
    "# notice we don't graph a sample, but the whole dataset; that's the power of datashader.\n",
    "agg = cvs.points(df, 'dropoff_longitude', 'dropoff_latitude',  ds.count('passenger_count')) \n",
    "\n",
    "# this takes the counts from each pixel given by agg and shades them accordingly\n",
    "# set_background controls the background color\n",
    "# how controls the transition to different colors based on intensity of each pixel\n",
    "tf.set_background(tf.shade(agg, cmap=Hot, how='eq_hist'),\"black\")"
   ]
  },
  {
   "cell_type": "markdown",
   "metadata": {},
   "source": [
    "# Heat map exercise\n",
    "Your task is to use the data provided to create a heatmap using the cell above as a guide."
   ]
  },
  {
   "cell_type": "markdown",
   "metadata": {},
   "source": [
    "# Code documentation\n",
    "Run the cell below to see docs on the `percentile` method.\n",
    "\n",
    "Remove the comment sign (`#`) before `?pd.DataFrame.where` and add it before `np.percentile`, then run again to see docs for the `where` method."
   ]
  },
  {
   "cell_type": "code",
   "execution_count": null,
   "metadata": {
    "attributes": {
     "classes": [],
     "id": "",
     "n": "11"
    }
   },
   "outputs": [],
   "source": [
    "import numpy as np \n",
    "import pandas as pd\n",
    "?np.percentile\n",
    "#?pd.DataFrame.where"
   ]
  },
  {
   "cell_type": "markdown",
   "metadata": {},
   "source": [
    "# Create the heat map\n",
    "In the cell below, fill in the call to `agg.where` to show greater than 90th\n",
    "percentile dropoffs. You will need the following functions:\n",
    "\n",
    "- `np.percentile`\n",
    "- `pd.DataFrame.where`\n",
    "\n",
    "Try it first.  You can check your code against the answer in the cell that follows."
   ]
  },
  {
   "cell_type": "code",
   "execution_count": null,
   "metadata": {
    "attributes": {
     "classes": [],
     "id": "",
     "n": "2"
    }
   },
   "outputs": [],
   "source": [
    "# datashader allows us to handle data with many rows, like NYC Taxi\n",
    "# it uses bokeh for plotting functionality\n",
    "import datashader as ds\n",
    "from datashader.colors import Hot\n",
    "from datashader import transfer_functions as tf\n",
    "import numpy as np\n",
    "import pandas as pd\n",
    "\n",
    "# load NYC Taxi train data \n",
    "df = pd.read_csv('train.csv')\n",
    "\n",
    "plot_height, plot_width = int(500), int(500)\n",
    "\n",
    "x_range, y_range = ((-74.2,-73.7), (40.6, 40.9)) \n",
    "\n",
    "# sets up frame for plot, analogous to plt.figure\n",
    "cvs = ds.Canvas(plot_width=plot_width, plot_height=plot_height, x_range=x_range, y_range=y_range) \n",
    "\n",
    "# plots dropoff lat/long and sums passenger_count for all points in each pixel\n",
    "agg = cvs.points(df, 'dropoff_longitude', 'dropoff_latitude',  ds.count('passenger_count')) \n",
    "\n",
    "#-----------------Your code here------------------------------#\n",
    "\n",
    "# fill in the call to agg.where to show 90th percentile or greater dropoffs\n",
    "tf.set_background(tf.shade(agg.where(), \n",
    "                  cmap=Hot, how='eq_hist'),\"black\")\n",
    "\n",
    "#-------------------------------------------------------------#"
   ]
  },
  {
   "cell_type": "markdown",
   "metadata": {},
   "source": [
    "# Answer code\n",
    "We used the following code in the cell above. Note the parameter for `agg.where()`.\n",
    "\n",
    "```python\n",
    "#-----------------Your code here------------------------------#\n",
    "\n",
    "# fill in the call to agg.where to show 90th percentile or greater dropoffs\n",
    "tf.set_background(tf.shade(agg.where(agg>np.percentile(agg,90)), \n",
    "                  cmap=Hot, how='eq_hist'),\"black\")\n",
    "\n",
    "#-------------------------------------------------------------#\n",
    "```"
   ]
  },
  {
   "cell_type": "markdown",
   "metadata": {},
   "source": [
    "# Thinking Ahead\n",
    "Eventually we will work on predicting trip duration based on\n",
    "pickup coordinates. This could be tackled many different ways, but the simplest\n",
    "is fitting a linear model to pickup coordinates and trip duration information.\n",
    "That's what we learn next week. Read further on linear models here:\n",
    "\n",
    "- https://www.kaggle.com/juliencs/a-study-on-regression-applied-to-the-ames-dataset\n",
    "\n",
    "# Privacy\n",
    "When the NYC Taxi & Limousine\n",
    "Commission or Stackoverflow\n",
    "release their data, they assume they're not harming\n",
    "their customers who provided\n",
    "that data. This isn't always safe to assume due to\n",
    "re-identification. You can\n",
    "read more at the following link:\n",
    "\n",
    "\n",
    "- https://www.georgetownlawtechreview.org/re-identification-of-anonymized-data/GLTR-04-2017/"
   ]
  }
 ],
 "metadata": {
  "kernelspec": {
   "display_name": "Python 2",
   "language": "python",
   "name": "python2"
  },
  "language_info": {
   "codemirror_mode": {
    "name": "ipython",
    "version": 2
   },
   "file_extension": ".py",
   "mimetype": "text/x-python",
   "name": "python",
   "nbconvert_exporter": "python",
   "pygments_lexer": "ipython2",
   "version": "2.7.15"
  }
 },
 "nbformat": 4,
 "nbformat_minor": 2
}
