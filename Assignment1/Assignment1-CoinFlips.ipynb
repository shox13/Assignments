{
 "cells": [
  {
   "cell_type": "markdown",
   "metadata": {},
   "source": [
    "# Exercise goals\n",
    "In this exercise, we will use Python to build different visual representations of data. We'll build a: \n",
    "- box plot\n",
    "- bar chart\n",
    "- histogram\n",
    "\n",
    "We will start by running a simulation of a random event, a coin flip.  We will then use simulation results to create different types of visualizations."
   ]
  },
  {
   "cell_type": "markdown",
   "metadata": {},
   "source": [
    "# Flip coins\n",
    "Lets start with a Python program that simulates coin flips and tells us how often the virtual coin landed on heads.\n",
    "\n",
    "The program below \"flips\" the coin 1000 times. At the end, it prints out how often the coin came up heads, as a ratio.\n",
    "\n",
    "  **Python note**:  How do we get a random number?  That's what the line `flip = random.random()` does.  The function \n",
    "  `random.random()` is built into Python for this purpose.  It returns a decimal between 0 and 1, which gets stored \n",
    "  in the variable `flip`.  Our program specifies that a value greater than 0.5 is considered heads (`if flip > 0.5:`), so each flip as a 50% chance of landing on heads, and a 50% chance of landing on tails (just like a coin in the real world).\n",
    "\n",
    "Try running this a few times to see the range of results.\n",
    "\n",
    "**Something extra**: The number of coin flips is set in the line `a = Coinflip(1000)`.  Try changing `1000` to different numbers, some much higher (such as `1,000,000`) and some much lower (such as `10`).  Run the block a few times.  How do you expect the number of coin flips to affect the percentage of heads?  When you increase the number, does the percentage (usually) move towards or away from 50%?\n",
    "\n",
    "Run the first cell below to install the necessary Python packages. Then continue with the next cell."
   ]
  },
  {
   "cell_type": "code",
   "execution_count": null,
   "metadata": {},
   "outputs": [],
   "source": [
    "!pip install numpy pandas matplotlib datashader networkx seaborn bokeh"
   ]
  },
  {
   "cell_type": "code",
   "execution_count": null,
   "metadata": {
    "attributes": {
     "classes": [],
     "id": "",
     "n": "14"
    }
   },
   "outputs": [],
   "source": [
    "# Here, we load the different libraries we'll use in the assignment.\n",
    "# By doing so, it allows us to accesss new functions that someone else has \n",
    "# come up with. For example plt.boxplot(), which allows us to make a boxplot\n",
    "# with code someone else has already written for us.\n",
    "import matplotlib.pyplot as plt\n",
    "import pandas as pd\n",
    "import numpy as np\n",
    "import random\n",
    "# this embeds plots within the jupyter notebook\n",
    "%matplotlib inline \n",
    "\n",
    "class Coinflip:\n",
    "\n",
    "    # this function is automatically run when you create an instance of \n",
    "    # Coinflip\n",
    "    def __init__(self, N):\n",
    "        # NOTE - style - space before assignment operator\n",
    "        self.total_flips = N\n",
    "        self.prob_heads = self.calc_prob() # here we call the function that will calculate P(heads)\n",
    "\n",
    "    def calc_prob(self):\n",
    "        num_heads = 0\n",
    "        for _ in range(self.total_flips): # this loop will run self.total_flips number of times\n",
    "            flip = random.random() # returns a number in [0, 1)\n",
    "            if flip > 0.5: # a fair coinflip has equal chance of heads/tails. This is a decent approx. of that\n",
    "                num_heads += 1\n",
    "\n",
    "        # this is regular division that returns a decimal\n",
    "        # if we used //, it would be integer division, which lops off the decimal portion of a number\n",
    "        prob_heads =  num_heads / float (self.total_flips) ##mark convert to float\n",
    "        return prob_heads\n",
    "\n",
    "\n",
    "# go ahead and change the # of flips to see how P(heads) varies with different sample sizes\n",
    "a = Coinflip(1000) # everytime you call a new instance of Coinflip, calc_prob is called and you get a new P(heads)\n",
    "print('total flips:', a.total_flips)\n",
    "print('P(heads):', a.prob_heads)"
   ]
  },
  {
   "cell_type": "markdown",
   "metadata": {},
   "source": [
    "# Flip coins multiple times\n",
    "Now that we have a program (the `Coinflip` class) that flips a coin to generate random data, lets use it to build a more robost data set.\n",
    "\n",
    "We will flip a coin 100 times (the value of `num_flips` below) and record the percentage of heads `P(heads)`.\n",
    "\n",
    "**Python note**:  The line `b = Coinflip(num_flips)` uses the `Coinflip` class in the previous cell. The `Coinflip` class *returns* the resulting percentage of heads (`P(heads)`).  The program below stores that percentage in the variable `b`.\n",
    "\n",
    "We will then repeat this step 100 times (the value of `iterations`).  So we will get the value of `b`, the percentage of heads, 100 times.\n",
    "\n",
    "**Python note**:  We want to make sure we don't overwrite the previous value of `b` in each iteration, as we need   \n",
    "all the `b` values to make a box plot. That's what the `probs` array is for. An `array` stores multiple values.  Each value of `b` is added to `probs`. By the time the program ends, `probs` stores 100 (the value of `iterations`) different values of `b`.\n",
    "\n",
    "In the next step we will make a box plot of the data to visualize the values of `b` that we stored in `probs`.\n",
    "\n",
    "Try running this a few times to see the range of results.\n",
    "\n",
    "The aggregate data for `P(heads)` is shown below the following code block. \n",
    "\n",
    "**Something extra**: The number of coin flip trials is the value of `iterations`.  Try changing `100` to different numbers, some much higher (such as `1,000,000`) and some much lower (such as `10`).  Run the block a few times.  How do you expect the mean percentage of heads to change?  When you increase the number, does the mean move towards or away from 0.500?"
   ]
  },
  {
   "cell_type": "code",
   "execution_count": null,
   "metadata": {
    "attributes": {
     "classes": [],
     "id": "",
     "n": "3"
    }
   },
   "outputs": [],
   "source": [
    "# Here we perform the coinflips and collect the probability of heads for each\n",
    "# iteration\n",
    "\n",
    "probs = np.array([]) # instantiate an empty numpy array\n",
    "iterations = 1000 # change number of iterations here\n",
    "num_flips= 1000   # change number of coinflips per iteration here\n",
    "for _ in range(iterations):\n",
    "    b = Coinflip(num_flips) # we create a new instance of the Coinflip class we defined above\n",
    "    probs = np.append(probs, b.prob_heads) # this adds each P(heads) to the back of probs\n",
    "\n",
    "# describe() is a cool function from pandas that displays descriptive stats\n",
    "# note that it doesn't display the median, which is the line inside the box of the boxplot\n",
    "pd.DataFrame({\"P(heads)\":probs}).describe()\n"
   ]
  },
  {
   "cell_type": "markdown",
   "metadata": {},
   "source": [
    "# Learn more about the code\n",
    "Lets pause for a moment and learn more about the code. This notebook (and the notebooks for all the other exercises) have a built in way to get more information about Python.\n",
    "\n",
    "To see the documentation for a Python function, simply type\n",
    "`?function_name` within a cell and run the cell.\n",
    "\n",
    "For example, running a cell with `?plt.boxplot` brings up the matplotlib documentation on the `boxplot` class.\n",
    "\n",
    "Try running the cell below as an example. Feel free to change the line in the cell below (but keep the `?`) to see different documentation."
   ]
  },
  {
   "cell_type": "code",
   "execution_count": null,
   "metadata": {
    "attributes": {
     "classes": [],
     "id": "",
     "n": "4"
    }
   },
   "outputs": [],
   "source": [
    "?plt.boxplot"
   ]
  },
  {
   "cell_type": "markdown",
   "metadata": {},
   "source": [
    "# Make the box plot\n",
    "The following code uses available Python classes to generate a box plot based on resulting data from the previous cell.\n",
    "\n",
    "**Something extra**: To change the box plot, you must rerun the previous code cell, then run the following code cell.  You will likely get slightly different results each time.  You can also change the `iterations` and/or the `num_flips` value in the previous code cell and rerun both cells.  How does the boxplot change? "
   ]
  },
  {
   "cell_type": "code",
   "execution_count": null,
   "metadata": {
    "attributes": {
     "classes": [],
     "id": "",
     "n": "6"
    }
   },
   "outputs": [],
   "source": [
    "# this allows us to add the title later, but it also controls much more; \n",
    "# check the docs to find more.\n",
    "fig = plt.figure()\n",
    "\n",
    "# chart title\n",
    "# now, when we run experiments with different #s of iterations/coinflips\n",
    "# our title will automatically update to display that information.\n",
    "fig.suptitle('{} iterations of {} coinflips'.format(iterations,num_flips))\n",
    "\n",
    "# this allows us to later add annotations with ax.annotate()\n",
    "ax = fig.add_subplot(111) \n",
    "\n",
    "# percentile for the probabilities. To find percentile for our probabilities,\n",
    "# we sort them from least to greatest, then find the observation that's greater\n",
    "# than x% of all observations. Therefore, the 90th percentile P(heads) is greater\n",
    "# than 90% of all probabilities in our sample. You can read more here:\n",
    "# https://en.wikipedia.org/wiki/Percentile\n",
    "perc = lambda x: sorted(probs)[int(num_flips*x/100)-1]\n",
    "\n",
    "# bottom of box\n",
    "ax.annotate('25th percentile', xy=(1.1, perc(25)), xytext=(1.25, perc(25)),\n",
    "            arrowprops=dict(facecolor='black', shrink=0.05))\n",
    "# top of box\n",
    "ax.annotate('75th percentile', xy=(1.1, perc(75)), xytext=(1.25, perc(75)),\n",
    "            arrowprops=dict(facecolor='black', shrink=0.05))\n",
    "\n",
    "# there are an equal number of points greater than and less than the median\n",
    "# line in the box\n",
    "median = sorted(probs)[int(num_flips/2)-1]\n",
    "# line within the box\n",
    "ax.annotate('median', xy=(1.1, median), xytext=(1.25, median),\n",
    "            arrowprops=dict(facecolor='black', shrink=0.05))\n",
    "\n",
    "min= sorted(probs)[0]\n",
    "# smallest data point\n",
    "ax.annotate('min', xy=(1.05, min), xytext=(1.25, min),\n",
    "            arrowprops=dict(facecolor='black', shrink=0.05))\n",
    "max= sorted(probs)[-1]\n",
    "# largest data point\n",
    "ax.annotate('max', xy=(1.05, max), xytext=(1.25, max),\n",
    "            arrowprops=dict(facecolor='black', shrink=0.05))\n",
    "# whis controls the whiskers. You can place them at specific percentiles: whis=[x,y]\n",
    "# or place them at the min and max: whis='range'\n",
    "whiskers = one, two = [5,95]\n",
    "\n",
    "# whisker 1\n",
    "ax.annotate(str(one)+'th percentile', xy=(1.05, perc(one)), xytext=(1.25, perc(one)),\n",
    "            arrowprops=dict(facecolor='black', shrink=0.05))\n",
    "# whisker 2\n",
    "ax.annotate(str(two)+'th percentile', xy=(1.05, perc(two)), xytext=(1.25, perc(two)),\n",
    "            arrowprops=dict(facecolor='black', shrink=0.05))\n",
    "\n",
    "# this actually creates the plot\n",
    "plt.boxplot(probs, whis=whiskers) \n",
    "# add y axis\n",
    "plt.ylabel('P( heads )')\n",
    "# this must be called in order to view the plot\n",
    "plt.show()"
   ]
  },
  {
   "cell_type": "markdown",
   "metadata": {},
   "source": [
    "# Create a bar chart\n",
    "Now we will create a bar chart showing coin flips.\n",
    "\n",
    "We will perform 100 iterations of coin flips, set in the line `for _ in range(100):`, which runs the code indented below it 100 times.\n",
    "\n",
    "Each iteration will use a different number of coin flips, 1, 10, 100, and 1000. This is set in the line: `for sample_size in [1, 10, 100, 1000]:`.\n",
    "\n",
    "The result of each iteration is added to the `probs` array.\n",
    "\n",
    "We then print out the summary data for sample size, mean, and standard deviation, in the lines:\n",
    "```python\n",
    "data = pd.DataFrame(data, columns = [\"Sample Size\", \"Mean\", \"Std. Dev.\"])\n",
    "data\n",
    "```\n",
    "**Something extra** What do you notice about the data as the sample size increases?\n",
    "\n",
    "In the next cell, after the Documentation cell, we will use that data to generate the bar chart."
   ]
  },
  {
   "cell_type": "code",
   "execution_count": null,
   "metadata": {
    "attributes": {
     "classes": [],
     "id": "",
     "n": "17"
    }
   },
   "outputs": [],
   "source": [
    "# Bar Chart Demo\n",
    "# It's common practice to load libraries first to expose their functionality for later\n",
    "import numpy as np\n",
    "import pandas as pd\n",
    "import matplotlib.pyplot as plt\n",
    "import random\n",
    "\n",
    "# we will use this list to collect our data\n",
    "data = []\n",
    "# we iterate over our chosen # of coinflips\n",
    "# for example, when sample_size is 1, we will perform 100 iterations of 1 coinflip\n",
    "for sample_size in [1, 10, 100, 1000]:\n",
    "    probs = []                      # this will hold the P(heads) for different iterations\n",
    "    for _ in range(100):            # number of iterations\n",
    "        c = Coinflip(sample_size)   # initialize our Coinflip experiment with sample_size flips\n",
    "        probs.append(c.prob_heads)  # append P(heads) to probs\n",
    "    probs = np.array(probs)         # convert probs from a list to a numpy array   \n",
    "\n",
    "    # create an entry with the data we need\n",
    "    # std. dev. is the square root of variance\n",
    "    # NOTE - style - unnecessary whitespace\n",
    "    # NOTE  - old - entry = [sample_size, probs.mean(), np.sqrt( probs.var() )]\n",
    "    entry = [sample_size, probs.mean(), np.sqrt(probs.var())]\n",
    "    # we append our entry to data\n",
    "    data.append(entry)\n",
    "\n",
    "# convert data from list to a pandas DataFrame\n",
    "data = pd.DataFrame(data, columns = [\"Sample Size\", \"Mean\", \"Std. Dev.\"])\n",
    "# display data in the notebook\n",
    "data"
   ]
  },
  {
   "cell_type": "markdown",
   "metadata": {},
   "source": [
    "#  Code documentation \n",
    "Run the following cell to view documentation for adding text to plots."
   ]
  },
  {
   "cell_type": "code",
   "execution_count": null,
   "metadata": {},
   "outputs": [],
   "source": [
    "import matplotlib.pyplot as plt\n",
    "fig, ax = plt.subplots()\n",
    "#?ax.bar\n",
    "?ax.text"
   ]
  },
  {
   "cell_type": "markdown",
   "metadata": {},
   "source": [
    "# Make the bar chart\n",
    "Run the following cell to see the bar chart for the coin flip data above."
   ]
  },
  {
   "cell_type": "code",
   "execution_count": null,
   "metadata": {
    "attributes": {
     "classes": [],
     "id": "",
     "n": "31"
    },
    "scrolled": true
   },
   "outputs": [],
   "source": [
    "# these allow us to add information to our plot including title, x label, y label, etc. \n",
    "# think of fig as the picture frame and ax as the picture\n",
    "fig, ax = plt.subplots()\n",
    "\n",
    "# number of data points. Shape returns (# rows, # columns) for a 2D array\n",
    "data_points = data.shape[0]\n",
    "# this is similar to the range() function, which returns a generator-\n",
    "# something similar to a list- from [0, data_points - 1]\n",
    "index = np.arange(data_points)\n",
    "# how wide our bars will be in the chart\n",
    "bar_width = 0.35\n",
    "\n",
    "# makes our bars more/less see through\n",
    "opacity = 0.4\n",
    "\n",
    "# making these columns a bit easier to access\n",
    "mean = data['Mean']\n",
    "sd = data['Std. Dev.']\n",
    "\n",
    "# creates our bar for mean\n",
    "rect1 = ax.bar(index, mean, bar_width,\n",
    "               alpha=opacity, color='b',\n",
    "               label = \"Mean\")\n",
    "# creates our bar for std. dev.\n",
    "rect2 = ax.bar(index + bar_width, sd, bar_width,\n",
    "               alpha=opacity, color='r',\n",
    "               label = \"Std. Dev.\")\n",
    "\n",
    "# here, we print the value for mean above its bar, making it easier to read\n",
    "for i, v in enumerate(mean):\n",
    "    # NOTE - style - consistent spacing\n",
    "    # NOTE - old - ax.text(i-.18 , v + .1, str(round(v,3)), color='b', fontweight='bold')\n",
    "    ax.text(i - .18, v + .1, str(round(v, 3)), color='b', fontweight='bold')\n",
    "\n",
    "# we print value for std. dev.\n",
    "for i, v in enumerate(sd):\n",
    "    # NOTE - style - consistent spacing \n",
    "    # NOTE - old - ax.text(i+.18 , v + .1, str(round(v,4)), color='r', fontweight='bold')\n",
    "    ax.text(i + .18, v + .1, str(round(v, 4)), color='r', fontweight='bold')\n",
    "\n",
    "# sets bounds on the y-axis\n",
    "# we need to do this so we can see the text for value of each bar we added above\n",
    "ax.set_ylim([0, 1])\n",
    "ax.set_xlabel('Sample Size')\n",
    "ax.set_ylabel('P(heads)')\n",
    "ax.set_title('Mean & Std. Dev. vs. Sample Size')\n",
    "# this correctly spaces the sample-size labels on the x-axis\n",
    "# NOTE - style - spacing should imply order of operations\n",
    "# NOTE - OLD - ax.set_xticks(index + bar_width / 2)\n",
    "ax.set_xticks(index + bar_width/2)\n",
    "ax.set_xticklabels(('1', '10', '100', '1000'))\n",
    "# this displays a legend to identify each bar\n",
    "ax.legend()\n",
    "\n",
    "fig.tight_layout()\n",
    "plt.show()"
   ]
  },
  {
   "cell_type": "markdown",
   "metadata": {},
   "source": [
    "# Generate coin flips for a histogram\n",
    "Now we will create a histogram showing coin flips.\n",
    "\n",
    "We will perform 1000 iterations (`for _ in range(1000):`) of 100 coin flips (`e = Coinflip(100)`).\n",
    "\n",
    "The result of each iteration is multipled by 100 and stored in the `heads` array.\n",
    "\n",
    "We then use the `figure` class to show data in the `heads` array as a histogram.\n",
    "\n",
    "**Something extra**: Look at the histogram. How close is it to a normal bell curve?  Now try changing the iterations and the number of coin flips.  Do you increase or decrease the values to bring the histogram closer to a normal bell curve?"
   ]
  },
  {
   "cell_type": "code",
   "execution_count": null,
   "metadata": {},
   "outputs": [],
   "source": [
    "# Histogram Demo \n",
    "# loading libraries to access pre-built functionality\n",
    "import time\n",
    "import time\n",
    "import pandas as pd\n",
    "import numpy as np\n",
    "import seaborn as sns\n",
    "import matplotlib.pyplot as plt\n",
    "import random\n",
    "\n",
    "%matplotlib inline\n",
    "sns.set()\n",
    "\n",
    "# this list will hold the number of heads \n",
    "# for each iteration\n",
    "heads = []\n",
    "# number of iterations\n",
    "for _ in range(1000):\n",
    "    # initialize Coinflip with 100 flips per iteration\n",
    "    e = Coinflip(10)\n",
    "    # P(heads) * number of coinflips is the num_heads\n",
    "    num_heads = e.prob_heads * 100\n",
    "    # add this value to our list, making sure it doesn't \n",
    "    # include a decimal by casting it as int\n",
    "    heads.append(int(num_heads))\n",
    "\n",
    "\n",
    "fig = plt.figure()\n",
    "fig.suptitle('1000 runs of 100 Coinflips')\n",
    "# the bins of a histogram refer to the groupings \n",
    "# on the x-axis of a histogram\n",
    "# the auto keyword sets how bins are selected.\n",
    "plt.hist(heads, bins='auto', color='black')\n",
    "plt.xlabel('Heads Per 100 Coinflips')\n",
    "plt.ylabel('Count')\n",
    "plt.show()\n"
   ]
  }
 ],
 "metadata": {
  "kernelspec": {
   "display_name": "Python 2",
   "language": "python",
   "name": "python2"
  },
  "language_info": {
   "codemirror_mode": {
    "name": "ipython",
    "version": 2
   },
   "file_extension": ".py",
   "mimetype": "text/x-python",
   "name": "python",
   "nbconvert_exporter": "python",
   "pygments_lexer": "ipython2",
   "version": "2.7.15"
  }
 },
 "nbformat": 4,
 "nbformat_minor": 2
}
