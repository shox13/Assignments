{
 "cells": [
  {
   "cell_type": "markdown",
   "metadata": {},
   "source": [
    "# Exercise goals\n",
    "In this exercise, we will explore a large dataset of NYC train data."
   ]
  },
  {
   "cell_type": "markdown",
   "metadata": {},
   "source": [
    "# Train data exercise\n",
    "Now we will use NYC taxi data to build a box plot. \n",
    "\n",
    "\n",
    "## Python notes\n",
    "In the code below, we use `pd.read_csv(train.csv)` to load the data file `train.csv` into the variable `train`. (Don't worry, this file is stored in this lab, you do not need to do anything to get it.)\n",
    "\n",
    "We then use the following lines to show the summary train data:\n",
    "```python\n",
    "duration = train['trip_duration']\n",
    "print(duration.describe()) # summary stats\n",
    "```\n",
    "\n",
    "Run the next cell to see documentation for the `read_csv` method."
   ]
  },
  {
   "cell_type": "code",
   "execution_count": null,
   "metadata": {
    "attributes": {
     "classes": [],
     "id": "",
     "n": "2"
    }
   },
   "outputs": [],
   "source": [
    "import pandas as pd\n",
    "?pd.read_csv\n",
    "#?pd.DataFrame.describe"
   ]
  },
  {
   "cell_type": "markdown",
   "metadata": {},
   "source": [
    "# Read in the train data\n",
    "You will run the following cell to read in the train data.\n",
    "\n",
    "First, you must set the values for `train` and `duation` variables.\n",
    "- For `train`, us the `read_csv` method. \n",
    "- For `duratio`n, select the colum from the `train` variable called `trip_duration`.\n",
    "\n",
    "Try it first.  You can check your code against the answer in the cell that follows.\n",
    "\n",
    "**Note**: As there's a lot of data, this code block might take up to 15 seconds to run."
   ]
  },
  {
   "cell_type": "code",
   "execution_count": null,
   "metadata": {
    "attributes": {
     "classes": [],
     "id": "",
     "n": "10"
    }
   },
   "outputs": [],
   "source": [
    "# again, we load libraries that allow us to access pre-made functions\n",
    "import pandas as pd\n",
    "import matplotlib.pyplot as plt\n",
    "# shows matplotlib plots within the jupyter notebook\n",
    "%matplotlib inline \n",
    "# if you get an error here, you may need to move train.csv to your current working directory from your \n",
    "# Downloads folder\n",
    "\n",
    "#------------------Enter your code here---------------------------#\n",
    "# load trip.csv\n",
    "train = \n",
    "duration = \n",
    "#-----------------------------------------------------------------#\n",
    "# use describe() to display summary stats for trip_duration\n",
    "duration.describe()"
   ]
  },
  {
   "cell_type": "markdown",
   "metadata": {},
   "source": [
    "# Answer code\n",
    "We used the following code in the cell above:\n",
    "\n",
    "```python\n",
    "#------------------Enter your code here---------------------------#\n",
    "# load trip.csv\n",
    "train = pd.read_csv('train.csv')\n",
    "# use describe() to display summary stats for trip_duration\n",
    "duration = train['trip_duration']\n",
    "#-----------------------------------------------------------------#\n",
    "```"
   ]
  },
  {
   "cell_type": "markdown",
   "metadata": {},
   "source": [
    "# Create box plot for train data\n",
    "The next code cell creates a box plot for the train data.\n",
    "\n",
    "## Python notes\n",
    "We use the method `ad.annotate()` to add arrows pointing to different percentiles in the box plot.\n",
    "\n",
    "We use `plt.boxplot(duration, whis=whiskers)` to generate and show the box plot for duration data."
   ]
  },
  {
   "cell_type": "code",
   "execution_count": null,
   "metadata": {},
   "outputs": [],
   "source": [
    "fig = plt.figure()\n",
    "fig.suptitle(\"NYC Taxi Trip Duration\")\n",
    "ax = fig.add_subplot(111)\n",
    "duration = train['trip_duration']\n",
    "# create a variable with the number of observations in duration\n",
    "count_duration = len(duration)\n",
    "\n",
    "# lambda gives another way to define a function. So, we can call\n",
    "# perc(22) and it substitute 22 for x.\n",
    "# perc(x) returns the value that is greater than x% of the data\n",
    "perc = lambda x: sorted(duration)[int(count_duration*x/100)-1]\n",
    "\n",
    "# bottom of box\n",
    "ax.annotate('25th percentile', xy=(1.1, perc(25)), xytext=(1.25, perc(25)),\n",
    "            arrowprops=dict(facecolor='black', shrink=0.05))\n",
    "\n",
    "#---------------Enter your code here---------------#\n",
    "# top of box\n",
    "ax.annotate('75th percentile', xy=(1.1, perc(75)), xytext=(1.25, perc(75)),\n",
    "            arrowprops=dict(facecolor='black', shrink=0.05))\n",
    "\n",
    "#--------------------------------------------------#\n",
    "\n",
    "# there are an equal number of points greater than and less than the median\n",
    "# line in the box\n",
    "# sorted() sorts duration from least to greatest\n",
    "median = sorted(duration)[int(count_duration/2)-1]\n",
    "\n",
    "# line within the box\n",
    "ax.annotate('median', xy=(1.1, median), xytext=(1.25, median),\n",
    "            arrowprops=dict(facecolor='black', shrink=0.05))\n",
    "\n",
    "# we choose which percentile to set our whiskers at\n",
    "# NOTE - style - same comment as before (var assignments)\n",
    "whiskers = one, two = [5,95]\n",
    "\n",
    "# whisker 1\n",
    "ax.annotate(str(one)+'th percentile', xy=(1.05, perc(one)), xytext=(1.25, perc(one)),\n",
    "            arrowprops=dict(facecolor='black', shrink=0.05))\n",
    "# whisker 2\n",
    "ax.annotate(str(two)+'th percentile', xy=(1.05, perc(two)), xytext=(1.25, perc(two)),\n",
    "            arrowprops=dict(facecolor='black', shrink=0.05))\n",
    "# add y axis\n",
    "plt.ylabel('Duration (seconds)')\n",
    "\n",
    "#---------------Enter your code here---------------#\n",
    "\n",
    "# boxplot call\n",
    "plt.boxplot(duration, whis=whiskers)\n",
    "\n",
    "# display the plot \n",
    "plt.show()\n",
    "#--------------------------------------------------#"
   ]
  },
  {
   "cell_type": "markdown",
   "metadata": {},
   "source": [
    "# Documentation\n",
    "Run the following cell to pull up documentation for box plots."
   ]
  },
  {
   "cell_type": "code",
   "execution_count": null,
   "metadata": {},
   "outputs": [],
   "source": [
    "?plt.boxplot"
   ]
  },
  {
   "cell_type": "markdown",
   "metadata": {},
   "source": [
    "# Train duration box plot data\n",
    "In the box chart above, the data is so spread out that we cannot see the box. This is the result of\n",
    "outliers, which we can remove from our plot adding the `showfliers` flag to `plt.boxplot()`.\n",
    "\n",
    "Run the block below to see duration summary data and a box plot with outliers removed."
   ]
  },
  {
   "cell_type": "code",
   "execution_count": null,
   "metadata": {
    "attributes": {
     "classes": [],
     "id": "",
     "n": "9"
    }
   },
   "outputs": [],
   "source": [
    "import pandas as pd\n",
    "import matplotlib.pyplot as plt\n",
    "%matplotlib inline\n",
    "\n",
    "train = pd.read_csv('train.csv')\n",
    "duration = train['trip_duration']\n",
    "print(duration.describe()) # summary stats\n",
    "\n",
    "# think of plt.figure as the frame of a picture\n",
    "fig = plt.figure()\n",
    "fig.suptitle(\"NYC Taxi Trip Duration\")\n",
    "# think of the ax as the picture within the frame\n",
    "ax = fig.add_subplot(111)\n",
    "\n",
    "# create a variable with the number of observations in duration\n",
    "count_duration = len(duration)\n",
    "\n",
    "# lambda gives another way to define a function. So, we can call\n",
    "# perc(22) and it substitute 22 for x.\n",
    "# perc(x) gives the value that is greater than x% of the data\n",
    "perc = lambda x: sorted(duration)[int(count_duration*x/100)-1]\n",
    "\n",
    "# bottom of box\n",
    "ax.annotate('25th percentile', xy=(1.1, perc(25)), xytext=(1.25, perc(25)),\n",
    "            arrowprops=dict(facecolor='black', shrink=0.05))\n",
    "# top of box\n",
    "ax.annotate('75th percentile', xy=(1.1, perc(75)), xytext=(1.25, perc(75)),\n",
    "            arrowprops=dict(facecolor='black', shrink=0.05))\n",
    "\n",
    "# there are an equal number of points greater than and less than the median\n",
    "# line in the box\n",
    "# sorted() sorts duration from least to greatest\n",
    "median = sorted(duration)[int(count_duration/2)-1]\n",
    "\n",
    "# line within the box\n",
    "ax.annotate('median', xy=(1.1, median), xytext=(1.25, median),\n",
    "            arrowprops=dict(facecolor='black', shrink=0.05))\n",
    "\n",
    "# we choose which percentiles to place our whiskers at\n",
    "whiskers = one, two = [5,95]\n",
    "\n",
    "# whisker 1\n",
    "ax.annotate(str(one)+'th percentile', xy=(1.05, perc(one)), xytext=(1.25, perc(one)),\n",
    "            arrowprops=dict(facecolor='black', shrink=0.05))\n",
    "# whisker 2\n",
    "ax.annotate(str(two)+'th percentile', xy=(1.05, perc(two)), xytext=(1.25, perc(two)),\n",
    "            arrowprops=dict(facecolor='black', shrink=0.05))\n",
    "plt.ylabel(\"Duration (seconds)\")\n",
    "#---------------Enter your code here---------------#\n",
    "\n",
    "# call to boxplot\n",
    "plt.boxplot(duration, whis=whiskers, showfliers=False)\n",
    "\n",
    "# display the plot\n",
    "plt.show()\n",
    "#--------------------------------------------------#"
   ]
  },
  {
   "cell_type": "markdown",
   "metadata": {},
   "source": [
    "# Bar chart exercise\n",
    "We will now make a bar chart of the number of rides with different numbers of passengers.\n",
    "\n",
    "- We use `pd.DataFrame.groupby` to get a count of the number of rides that occur with 0, 1, 2, etc. passengers\n",
    "- You can read more about `groupby` here: https://www.tutorialspoint.com/python_pandas/python_pandas_groupby.htm"
   ]
  },
  {
   "cell_type": "markdown",
   "metadata": {},
   "source": [
    "# Code documentation\n",
    "Run the following cell to see docs for `groupby`."
   ]
  },
  {
   "cell_type": "code",
   "execution_count": null,
   "metadata": {},
   "outputs": [],
   "source": [
    "import pandas as pd\n",
    "?pd.DataFrame.groupby"
   ]
  },
  {
   "cell_type": "markdown",
   "metadata": {},
   "source": [
    "# Get passenger count\n",
    "Edit the line `passenger_count =` to group the results by `passenger_count` using the `groupby` method. Then run the following cell.\n",
    "\n",
    "Try it first.  You can check your code against the answer in the cell that follows."
   ]
  },
  {
   "cell_type": "code",
   "execution_count": null,
   "metadata": {
    "attributes": {
     "classes": [],
     "id": "",
     "n": "2"
    }
   },
   "outputs": [],
   "source": [
    "# We import libraries as is common practice\n",
    "import pandas as pd\n",
    "import numpy as np\n",
    "import matplotlib.pyplot as plt\n",
    "# seaborn is an API built on top of matplotlib\n",
    "# It creates more aesthetically appealing plots and simplifies some things\n",
    "# read more about what an API is here:\n",
    "# https://en.wikipedia.org/wiki/Application_programming_interface\n",
    "import seaborn as sns; sns.set()\n",
    "%matplotlib inline\n",
    "\n",
    "# load up the NYC Taxi data\n",
    "# remember to move train.csv to your current working directory\n",
    "train = pd.read_csv('train.csv')\n",
    "# groupby is kind of like a pivot table in excel \n",
    "# check the docs by running ?pd.DataFrame.groupby\n",
    "\n",
    "#-----------------Enter your code here--------------------#\n",
    "# groupby groups all rows together that correspond to each unique value \n",
    "# of passenger counte\n",
    "# count() collapses all the rows into the number of rows for each group\n",
    "# ['passenger_count'] returns the column we want\n",
    "passenger_count = \n",
    "\n",
    "#---------------------------------------------------------#\n",
    "\n",
    "# display passenger_count\n",
    "passenger_count"
   ]
  },
  {
   "cell_type": "markdown",
   "metadata": {},
   "source": [
    "# Answer code\n",
    "We used the following code in the cell above:\n",
    "\n",
    "```python\n",
    "#-----------------Enter your code here--------------------#\n",
    "# groupby groups all rows together that correspond to each unique value \n",
    "# of passenger counte\n",
    "# count() collapses all the rows into the number of rows for each group\n",
    "# ['passenger_count'] returns the column we want\n",
    "passenger_count = train.groupby('passenger_count').count().id\n",
    "\n",
    "#---------------------------------------------------------#\n",
    "```"
   ]
  },
  {
   "cell_type": "markdown",
   "metadata": {},
   "source": [
    "# Code documentation\n",
    "Run the following cell to see docs for the `bar` method."
   ]
  },
  {
   "cell_type": "code",
   "execution_count": null,
   "metadata": {},
   "outputs": [],
   "source": [
    "import matplotlib.pyplot as plt\n",
    "fig, ax = plt.subplots()\n",
    "?ax.bar"
   ]
  },
  {
   "cell_type": "markdown",
   "metadata": {},
   "source": [
    "# Create the bar chart \n",
    "In the cell below, write the call to the `ax.bar()` method to create the bar chart for passenger count \n",
    "vs. the number of rides.\n",
    "\n",
    "Try it first.  You can check your code against the answer in the cell that follows."
   ]
  },
  {
   "cell_type": "code",
   "execution_count": null,
   "metadata": {
    "attributes": {
     "classes": [],
     "id": "",
     "n": "3"
    }
   },
   "outputs": [],
   "source": [
    "# these give us control of title, x axis, y axis, etc.\n",
    "fig, ax = plt.subplots()\n",
    "bar_width=0.35\n",
    "opacity=0.4\n",
    "# shape[0] returns the number of rows/observations\n",
    "# np.arange returns a generator [0, rows in passenger count - 1]\n",
    "index = np.arange(passenger_count.shape[0])\n",
    "# we create our passenger count bar\n",
    "#------------------Enter your code here-------------------#\n",
    "rect = ax.bar()\n",
    "\n",
    "#---------------------------------------------------------#\n",
    "ax.set_xlabel('Passenger Count')\n",
    "ax.set_ylabel('Number of Rides')\n",
    "ax.set_title('Number of Rides vs. Passenger Count')\n",
    "\n",
    "fig.tight_layout()\n",
    "# a table form of our data\n",
    "print(passenger_count)\n",
    "plt.show()\n"
   ]
  },
  {
   "cell_type": "markdown",
   "metadata": {},
   "source": [
    "# Answer code\n",
    "We used the following code in the cell above:\n",
    "\n",
    "```python\n",
    "#------------------Enter your code here-------------------#\n",
    "rect = ax.bar(index, passenger_count, bar_width,\n",
    "              alpha=opacity, color='b')\n",
    "\n",
    "#---------------------------------------------------------#\n",
    "```"
   ]
  },
  {
   "cell_type": "markdown",
   "metadata": {},
   "source": [
    "# Histogram exercise\n",
    "We will now make a histogram of trip duration.\n",
    "\n",
    "**Hint**: taking the log may make the values easier to interpret in the final graph.\n",
    "\n",
    "In the cell below, edit the call to the `plt.hist()` method.\n",
    "\n",
    "**Hint**: taking the log may make the values easier to interpret in the final graph.\n",
    "\n",
    "Then answer: What's the most likely trip duration?\n",
    "\n",
    "Try it first.  You can check your code against the answer in the cell that follows."
   ]
  },
  {
   "cell_type": "code",
   "execution_count": null,
   "metadata": {
    "attributes": {
     "classes": [],
     "id": "",
     "n": "50"
    }
   },
   "outputs": [],
   "source": [
    "# Histogram Exercise\n",
    "import pandas as pd\n",
    "import matplotlib.pyplot as plt\n",
    "import numpy as np\n",
    "\n",
    "train = pd.read_csv('train.csv')\n",
    "\n",
    "fig = plt.figure()\n",
    "fig.suptitle('Trip Duration')\n",
    "# this bunches all the values closer together\n",
    "# if you plot raw values, the resultant graph isn't very good and takes a while to load\n",
    "#-------------Enter your code here-------------------------------#\n",
    "plt.hist() \n",
    "#----------------------------------------------------------------#\n",
    "plt.xlabel('ln(Duration in seconds)')\n",
    "plt.ylabel('Count')\n",
    "plt.show()"
   ]
  },
  {
   "cell_type": "markdown",
   "metadata": {},
   "source": [
    "# Answer code\n",
    "We used the following code in the cell above:\n",
    "\n",
    "```python\n",
    "#-------------Enter your code here-------------------------------#\n",
    "plt.hist(np.log(train['trip_duration']), bins='auto', color='black') \n",
    "#----------------------------------------------------------------#\n",
    "```"
   ]
  },
  {
   "cell_type": "markdown",
   "metadata": {},
   "source": [
    "# Most likely trip duration\n",
    "Using the histogram above, what's the most likely trip duration in seconds?\n",
    "Enter your answer as a parameter to `np.exp()`, then run the cell below."
   ]
  },
  {
   "cell_type": "code",
   "execution_count": null,
   "metadata": {
    "attributes": {
     "classes": [],
     "id": "",
     "n": "21"
    }
   },
   "outputs": [],
   "source": [
    "\n",
    "#-------------------Enter Your code here--------------#\n",
    "\n",
    "# enter your answer for most likely duration\n",
    "import numpy as np\n",
    "np.exp()\n",
    "#-----------------------------------------------------#"
   ]
  }
 ],
 "metadata": {
  "kernelspec": {
   "display_name": "Python 2",
   "language": "python",
   "name": "python2"
  },
  "language_info": {
   "codemirror_mode": {
    "name": "ipython",
    "version": 2
   },
   "file_extension": ".py",
   "mimetype": "text/x-python",
   "name": "python",
   "nbconvert_exporter": "python",
   "pygments_lexer": "ipython2",
   "version": "2.7.15"
  }
 },
 "nbformat": 4,
 "nbformat_minor": 2
}
