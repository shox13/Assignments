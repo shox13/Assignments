{
 "cells": [
  {
   "cell_type": "markdown",
   "metadata": {},
   "source": [
    "# Exploring and Visualizing Data\n",
    "In this exercise, we will explore a large dataset for New York City taxis. We will then create visualizations for that data in the following forms.\n",
    "\n",
    "- A **box and whisker plot** that shows typical taxi trip duration.\n",
    "- A **bar chart** that shows the number of passengers in each taxi.\n",
    "- A **histogram** that shows the most likely trip duration.\n",
    "\n",
    "These visualizations can help you plan for an optimize future taxi service."
   ]
  },
  {
   "cell_type": "markdown",
   "metadata": {},
   "source": [
    "## Part 1. Taxi Trip Duration Box and Whisker Plot\n",
    "\n",
    "You can use a box and whisker plot to see the distribution of data based on a five numbers:\n",
    "\n",
    "* Minimum\n",
    "* First quartile (Q1)\n",
    "* Median\n",
    "* Third quartile (Q3)\n",
    "* Maximum \n",
    "\n",
    "The box plot also shows outliers, how symmetrical your data is, how tightly your data is grouped, and if and how your data is skewed.\n",
    "\n",
    "This first visualization is a box and whisker plot that uses taxi data from New York City. This visualization has three steps.\n",
    "\n",
    "1. Load the data.\n",
    "2. Create a box and whisker plot.\n",
    "3. Refine the box and whisker plot.\n",
    "\n",
    "In this visualization, you will use the following elements. For more information about these elements, see the **Python Documentation** section at the end of the visualization.\n",
    "\n",
    "* `train` variable\n",
    "* `read_csv` method\n",
    "* `duration` variable\n",
    "* `trip_duration` column\n",
    "* `describe`"
   ]
  },
  {
   "cell_type": "markdown",
   "metadata": {},
   "source": [
    "### Step 1. Load the Data\n",
    "\n",
    "Before we can create the box and whisker plot, we need a dataset. To load the dataset, follow these steps.\n",
    "\n",
    "1. In the following code cell, enter a value for the `train` variable. To do this, replace the `train =` line in the code cell with your own code, based on the `read_csv` method.\n",
    "\n",
    "   For more information, see **Python Documentation** below the code cell.\n",
    "\n",
    "\n",
    "2. In the following code cell, enter a value for the `duration` variable. \n",
    "\n",
    "   To do this, replace the `duration =` line in the code cell with your own code, based on the `trip_duration` column in the `train` variable.\n",
    "\n",
    "\n",
    "3. Run the code cell.\n",
    "\n",
    "   **Note**: This dataset is large. This code block might take up to 15 seconds to run.\n",
    "   \n",
    "To see the code that we used for the `train` and `duration` variables, see **Answer Code** below the code cell."
   ]
  },
  {
   "cell_type": "code",
   "execution_count": null,
   "metadata": {
    "attributes": {
     "classes": [],
     "id": "",
     "n": "10"
    }
   },
   "outputs": [],
   "source": [
    "# Load libraries that allow us to access pre-made functions.\n",
    "import pandas as pd\n",
    "import matplotlib.pyplot as plt\n",
    "# Show matplotlib plots within the jupyter notebook.\n",
    "%matplotlib inline \n",
    "\n",
    "# You need to load the train.csv file. To do this, enter a value for the train \n",
    "# variable in the following line.\n",
    "#-------- Enter a value for the train variable here --------------#\n",
    "train = \n",
    "\n",
    "#-------- Enter a value for the duration variable here -----------#\n",
    "duration = \n",
    "#-----------------------------------------------------------------#\n",
    "# Use describe() to display summary stats for trip_duration.\n",
    "duration.describe()"
   ]
  },
  {
   "cell_type": "markdown",
   "metadata": {},
   "source": [
    "#### Answer Code\n",
    "We used the following code in the code cell.\n",
    "\n",
    "```python\n",
    "#-------- Enter a value for the train variable here --------------#\n",
    "train = pd.read_csv('train.csv')\n",
    "\n",
    "#-------- Enter a value for the duration variable here -----------#\n",
    "duration = train['trip_duration']\n",
    "#-----------------------------------------------------------------#\n",
    "```"
   ]
  },
  {
   "cell_type": "markdown",
   "metadata": {},
   "source": [
    "#### Python Documentation\n",
    "\n",
    "* In this code, `pd.read_csv(train.csv)` loads the `train.csv` data file into the `train` variable. (The `train.csv` file is stored in this lab.)\n",
    "\n",
    "* The following lines show the summary training data:\n",
    "  ```python\n",
    "  duration = train['trip_duration']\n",
    "  print(duration.describe()) # summary stats\n",
    "  ```\n",
    "* Run the following cell to see documentation for the `read_csv` method.\n"
   ]
  },
  {
   "cell_type": "code",
   "execution_count": null,
   "metadata": {},
   "outputs": [],
   "source": [
    "import pandas as pd\n",
    "?pd.read_csv\n",
    "#?pd.DataFrame.describe"
   ]
  },
  {
   "cell_type": "markdown",
   "metadata": {},
   "source": [
    "### Step 2. Create a Box and Whisker Plot\n",
    "To create a box and whisker plot of this data, run the following code cell.\n",
    "\n",
    "For more information about the code, see **Python Notes** and **Box Plot Documentation** below the code cell."
   ]
  },
  {
   "cell_type": "code",
   "execution_count": null,
   "metadata": {},
   "outputs": [],
   "source": [
    "fig = plt.figure()\n",
    "fig.suptitle(\"NYC Taxi Trip Duration\")\n",
    "ax = fig.add_subplot(111)\n",
    "duration = train['trip_duration']\n",
    "# Create a variable with the number of observations in the duration.\n",
    "count_duration = len(duration)\n",
    "\n",
    "# lambda gives another way to define a function. So, we can call\n",
    "# perc(22) and it will substitute 22 for x.\n",
    "# perc(x) returns the value that is greater than x% of the data.\n",
    "perc = lambda x: sorted(duration)[int(count_duration*x/100)-1]\n",
    "\n",
    "# bottom of box.\n",
    "ax.annotate('25th percentile', xy=(1.1, perc(25)), xytext=(1.25, perc(25)),\n",
    "            arrowprops=dict(facecolor='black', shrink=0.05))\n",
    "\n",
    "# top of box\n",
    "ax.annotate('75th percentile', xy=(1.1, perc(75)), xytext=(1.25, perc(75)),\n",
    "            arrowprops=dict(facecolor='black', shrink=0.05))\n",
    "\n",
    "\n",
    "# There are an equal number of points greater than and less than the median\n",
    "# line in the box.\n",
    "# sorted() sorts duration from least to greatest.\n",
    "median = sorted(duration)[int(count_duration/2)-1]\n",
    "\n",
    "# Create a line within the box.\n",
    "ax.annotate('median', xy=(1.1, median), xytext=(1.25, median),\n",
    "            arrowprops=dict(facecolor='black', shrink=0.05))\n",
    "\n",
    "# Choose the percentiles where you want to set the whiskers.\n",
    "# NOTE - style - same comment as before (var assignments).\n",
    "whiskers = one, two = [5,95]\n",
    "\n",
    "# Whisker 1.\n",
    "ax.annotate(str(one)+'th percentile', xy=(1.05, perc(one)), xytext=(1.25, perc(one)),\n",
    "            arrowprops=dict(facecolor='black', shrink=0.05))\n",
    "# Whisker 2.\n",
    "ax.annotate(str(two)+'th percentile', xy=(1.05, perc(two)), xytext=(1.25, perc(two)),\n",
    "            arrowprops=dict(facecolor='black', shrink=0.05))\n",
    "# Add the y axis.\n",
    "plt.ylabel('Duration (seconds)')\n",
    "\n",
    "# The box plot call.\n",
    "plt.boxplot(duration, whis=whiskers)\n",
    "\n",
    "# Display the plot. \n",
    "plt.show()"
   ]
  },
  {
   "cell_type": "markdown",
   "metadata": {},
   "source": [
    "#### Python Documentation\n",
    "\n",
    "* We use the `ad.annotate()` method to add arrows pointing to different percentiles in the box plot.\n",
    "\n",
    "* We use `plt.boxplot(duration, whis=whiskers)` to generate and show the box plot for duration data.\n",
    "\n",
    "* Run the following cell to access documentation for box plots."
   ]
  },
  {
   "cell_type": "code",
   "execution_count": null,
   "metadata": {},
   "outputs": [],
   "source": [
    "?plt.boxplot"
   ]
  },
  {
   "cell_type": "markdown",
   "metadata": {},
   "source": [
    "### Step 3. Refine the Box and Whisker Plot\n",
    "In the box plot we just created, the data is so spread out that we cannot see the box. This is the result of outliers, which we can remove from our plot.\n",
    "\n",
    "Run the following code cell to create a box plot with the outliers removed.\n",
    "\n",
    "For more information about the code, see **Python Notes** below the code cell."
   ]
  },
  {
   "cell_type": "code",
   "execution_count": null,
   "metadata": {
    "attributes": {
     "classes": [],
     "id": "",
     "n": "9"
    }
   },
   "outputs": [],
   "source": [
    "import pandas as pd\n",
    "import matplotlib.pyplot as plt\n",
    "%matplotlib inline\n",
    "\n",
    "train = pd.read_csv('train.csv')\n",
    "duration = train['trip_duration']\n",
    "print(duration.describe()) # summary stats\n",
    "\n",
    "# Think of plt.figure as the frame of a picture.\n",
    "fig = plt.figure()\n",
    "fig.suptitle(\"NYC Taxi Trip Duration\")\n",
    "# Think of ax as the picture within the frame.\n",
    "ax = fig.add_subplot(111)\n",
    "\n",
    "# Create a variable with the number of observations in the duration.\n",
    "count_duration = len(duration)\n",
    "\n",
    "# lambda gives another way to define a function. So, we can call\n",
    "# perc(22) and it will substitute 22 for x.\n",
    "# perc(x) returns the value that is greater than x% of the data.\n",
    "perc = lambda x: sorted(duration)[int(count_duration*x/100)-1]\n",
    "\n",
    "# The bottom of the box.\n",
    "ax.annotate('25th percentile', xy=(1.1, perc(25)), xytext=(1.25, perc(25)),\n",
    "            arrowprops=dict(facecolor='black', shrink=0.05))\n",
    "# The top of the box.\n",
    "ax.annotate('75th percentile', xy=(1.1, perc(75)), xytext=(1.25, perc(75)),\n",
    "            arrowprops=dict(facecolor='black', shrink=0.05))\n",
    "\n",
    "# There are an equal number of points greater than and less than the median\n",
    "# line in the box.\n",
    "# sorted() sorts the duration from least to greatest.\n",
    "median = sorted(duration)[int(count_duration/2)-1]\n",
    "\n",
    "# A line within the box.\n",
    "ax.annotate('median', xy=(1.1, median), xytext=(1.25, median),\n",
    "            arrowprops=dict(facecolor='black', shrink=0.05))\n",
    "\n",
    "# Choose the percentiles where you want to set the whiskers.\n",
    "whiskers = one, two = [5,95]\n",
    "\n",
    "# Whisker 1.\n",
    "ax.annotate(str(one)+'th percentile', xy=(1.05, perc(one)), xytext=(1.25, perc(one)),\n",
    "            arrowprops=dict(facecolor='black', shrink=0.05))\n",
    "# Whisker 2.\n",
    "ax.annotate(str(two)+'th percentile', xy=(1.05, perc(two)), xytext=(1.25, perc(two)),\n",
    "            arrowprops=dict(facecolor='black', shrink=0.05))\n",
    "plt.ylabel(\"Duration (seconds)\")\n",
    "#---------------Enter your code here---------------#\n",
    "\n",
    "# The call to the box plot.\n",
    "plt.boxplot(duration, whis=whiskers, showfliers=False)\n",
    "\n",
    "# Display the plot.\n",
    "plt.show()\n",
    "#--------------------------------------------------#"
   ]
  },
  {
   "cell_type": "markdown",
   "metadata": {},
   "source": [
    "#### Python Documentation\n",
    "We remove the outliers from our plot by adding the `showfliers` flag to `plt.boxplot()`.\n"
   ]
  },
  {
   "cell_type": "markdown",
   "metadata": {},
   "source": [
    "## Bar Chart: Number of Trains with 'n' Passengers\n",
    "\n",
    "This visualization is a bar chart of the number of taxi rides with different numbers ('n') of passengers. This visualization has two steps.\n",
    "\n",
    "1. Load the training data.\n",
    "2. Create a bar chart.\n",
    "\n",
    "In this visualization, you will use the following elements. For more information about these elements, see the **Python Documentation** section at the end of the visualization.\n",
    "\n",
    "* `passenger_count`\n",
    "* `groupby` method\n",
    "* `bar` method\n",
    "\n",
    "### Step 1. Load the Training Data\n",
    "\n",
    "To load the data, follow these steps.\n",
    "\n",
    "1. In the following code cell, edit the `passenger_count =` line to group the results by `passenger_count` using the `groupby` method. To do this, replace the `passenger_count =` line in the code cell with your own code.\n",
    "\n",
    "   For more information, see **Python Documentation** below the code cell.\n",
    "\n",
    "\n",
    "2. Run the code cell.\n",
    "\n",
    "To see the code that we used for the `passenger_count =` line, see **Answer Code** below the code cell."
   ]
  },
  {
   "cell_type": "code",
   "execution_count": null,
   "metadata": {
    "attributes": {
     "classes": [],
     "id": "",
     "n": "2"
    }
   },
   "outputs": [],
   "source": [
    "# Load libraries that allow us to access pre-made functions.\n",
    "import pandas as pd\n",
    "import numpy as np\n",
    "import matplotlib.pyplot as plt\n",
    "# seaborn is an API built on top of matplotlib.\n",
    "# It creates more aesthetically appealing plots and simplifies some things.\n",
    "# Read more about what an API is here:\n",
    "# https://en.wikipedia.org/wiki/Application_programming_interface\n",
    "import seaborn as sns; sns.set()\n",
    "%matplotlib inline\n",
    "\n",
    "# Load the NYC taxi data.\n",
    "# Remember to move train.csv to your current working directory.\n",
    "train = pd.read_csv('train.csv')\n",
    "# groupby is similar to a pivot table in Microsoft Excel.\n",
    "# groupby groups all rows together that correspond to each unique value \n",
    "# of passenger count.\n",
    "# count() collapses all the rows into the number of rows for each group.\n",
    "# ['passenger_count'] returns the column we want.\n",
    "\n",
    "#---------------- Edit the following line ----------------#\n",
    "passenger_count = \n",
    "#---------------------------------------------------------#\n",
    "\n",
    "# Display passenger_count.\n",
    "passenger_count"
   ]
  },
  {
   "cell_type": "markdown",
   "metadata": {},
   "source": [
    "#### Answer Code\n",
    "We used the following code in the code cell.\n",
    "\n",
    "```python\n",
    "#-------------------- Edit the following line ----------------#\n",
    "passenger_count = train.groupby('passenger_count').count().id\n",
    "#-------------------------------------------------------------#\n",
    "```"
   ]
  },
  {
   "cell_type": "markdown",
   "metadata": {},
   "source": [
    "### Step 2. Create a Bar Chart\n",
    "\n",
    "Now that we've loaded passenger data and grouped the results by number of passengers, we can create a bar chart to show this data. The bar chart can quickly show us how results are distributed.\n",
    "\n",
    "To create a bar chart, follow these steps.\n",
    "\n",
    "1. In the following code cell, write the call to the `ax.bar()` method to create the bar chart for the number of rides that have specific passenger counts. To do this,  replace the `rect = ax.bar()` line in the code with your own call.\n",
    "\n",
    "   For more information, see **Python Documentation** below the code cell.\n",
    "   \n",
    "   \n",
    "2. Run the code cell.\n",
    "\n",
    "To see the code that we used, see **Answer Code** below the code cell."
   ]
  },
  {
   "cell_type": "code",
   "execution_count": null,
   "metadata": {
    "attributes": {
     "classes": [],
     "id": "",
     "n": "3"
    }
   },
   "outputs": [],
   "source": [
    "# These give us control of the title, x axis, y axis, etc.\n",
    "fig, ax = plt.subplots()\n",
    "bar_width=0.35\n",
    "opacity=0.4\n",
    "# shape[0] returns the number of rows/observations.\n",
    "# np.arange returns a generator [0, rows in passenger count - 1].\n",
    "index = np.arange(passenger_count.shape[0])\n",
    "\n",
    "# Create the passenger count bar.\n",
    "#------------------Enter your code here-------------------#\n",
    "rect = ax.bar()\n",
    "#---------------------------------------------------------#\n",
    "\n",
    "ax.set_xlabel('Passenger Count')\n",
    "ax.set_ylabel('Number of Rides')\n",
    "ax.set_title('Number of Rides with Each Passenger Count')\n",
    "\n",
    "fig.tight_layout()\n",
    "# a table form of our data\n",
    "print(passenger_count)\n",
    "plt.show()\n"
   ]
  },
  {
   "cell_type": "markdown",
   "metadata": {},
   "source": [
    "#### Answer Code\n",
    "We used the following code in the code cell.\n",
    "\n",
    "```python\n",
    "#------------------Enter your code here-------------------#\n",
    "rect = ax.bar(index, passenger_count, bar_width,\n",
    "              alpha=opacity, color='b')\n",
    "#---------------------------------------------------------#\n",
    "```"
   ]
  },
  {
   "cell_type": "markdown",
   "metadata": {},
   "source": [
    "### Python Documentation\n",
    "\n",
    "* We use `pd.DataFrame.groupby` to get a count of the number of rides that occur with 0, 1, 2, etc. passengers. \n",
    "\n",
    "* For more information about `groupby`, see https://www.tutorialspoint.com/python_pandas/python_pandas_groupby.htm, or run the following cell to access `groupby` documentation."
   ]
  },
  {
   "cell_type": "code",
   "execution_count": null,
   "metadata": {},
   "outputs": [],
   "source": [
    "import pandas as pd\n",
    "?pd.DataFrame.groupby"
   ]
  },
  {
   "cell_type": "markdown",
   "metadata": {},
   "source": [
    "* Run the following cell to access documentation for the `bar` method."
   ]
  },
  {
   "cell_type": "code",
   "execution_count": null,
   "metadata": {},
   "outputs": [],
   "source": [
    "import matplotlib.pyplot as plt\n",
    "fig, ax = plt.subplots()\n",
    "?ax.bar"
   ]
  },
  {
   "cell_type": "markdown",
   "metadata": {},
   "source": [
    "### Histogram: Trip Duration\n",
    "Finally, we will create a histogram that shows taxi trip duration.  \n",
    "\n",
    "A histogram shows the distribution of numerical data.\n",
    "\n",
    "In this visualization, you will use the following elements. \n",
    "\n",
    "* `plt.hist()` method\n",
    "* `np.exp`\n",
    "\n",
    "For more information, see **Python Documentation** at the end of the visualization.\n",
    "\n",
    "To create the histogram, follow these steps.\n",
    "\n",
    "1. In the following code cell, edit the call to the `plt.hist()` method. To do this, replace the `plt.hist()` line with your own call. (To see the code that we used, see **Answer Code** below the code cell.)\n",
    "   \n",
    "2. Run the code cell."
   ]
  },
  {
   "cell_type": "code",
   "execution_count": null,
   "metadata": {
    "attributes": {
     "classes": [],
     "id": "",
     "n": "50"
    }
   },
   "outputs": [],
   "source": [
    "# Histogram Exercise\n",
    "import pandas as pd\n",
    "import matplotlib.pyplot as plt\n",
    "import numpy as np\n",
    "\n",
    "train = pd.read_csv('train.csv')\n",
    "\n",
    "fig = plt.figure()\n",
    "fig.suptitle('Trip Duration')\n",
    "# Bunch all the values closer together.\n",
    "# If you plot raw values, the resultant graph isn't very good and takes a while to load.\n",
    "\n",
    "#------------- Edit the following line --------------------------#\n",
    "plt.hist() \n",
    "#----------------------------------------------------------------#\n",
    "\n",
    "plt.xlabel('ln(Duration in Seconds)')\n",
    "plt.ylabel('Count')\n",
    "plt.show()"
   ]
  },
  {
   "cell_type": "markdown",
   "metadata": {},
   "source": [
    "#### Answer Code\n",
    "We used the following code in the code cell.\n",
    "\n",
    "```python\n",
    "#------------------Enter your code here-------------------------------------------#\n",
    "plt.hist(np.log(train['trip_duration']), bins='auto', color='black') \n",
    "#---------------------------------------------------------------------------------#\n",
    "```"
   ]
  },
  {
   "cell_type": "markdown",
   "metadata": {},
   "source": [
    "#### Python Documentation\n",
    "\n",
    "Taking the log may make the values easier to interpret in the final graph."
   ]
  },
  {
   "cell_type": "markdown",
   "metadata": {},
   "source": [
    "#### Most Likely Trip Duration\n",
    "\n",
    "1. Using the histogram above, determine the most likely trip duration in seconds. \n",
    "2. Enter your answer as a parameter to `np.exp()`.\n",
    "3. Run the following code cell."
   ]
  },
  {
   "cell_type": "code",
   "execution_count": null,
   "metadata": {
    "attributes": {
     "classes": [],
     "id": "",
     "n": "21"
    }
   },
   "outputs": [],
   "source": [
    "import numpy as np\n",
    "#------------- Edit the following line ----------------#\n",
    "# Enter your answer for most likely trip duration.\n",
    "np.exp()\n",
    "#-----------------------------------------------------#"
   ]
  }
 ],
 "metadata": {
  "kernelspec": {
   "display_name": "Python 2",
   "language": "python",
   "name": "python2"
  },
  "language_info": {
   "codemirror_mode": {
    "name": "ipython",
    "version": 2
   },
   "file_extension": ".py",
   "mimetype": "text/x-python",
   "name": "python",
   "nbconvert_exporter": "python",
   "pygments_lexer": "ipython2",
   "version": "2.7.15"
  }
 },
 "nbformat": 4,
 "nbformat_minor": 2
}
