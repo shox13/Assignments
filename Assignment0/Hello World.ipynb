{
 "cells": [
  {
   "cell_type": "markdown",
   "metadata": {},
   "source": [
    "# Introduction to code exercises\n",
    "This exercise introduces you to Jupyter Notebooks and how to complete the exercises in this course.\n",
    "\n",
    "Through the notebook, you run code **cells** and see the results.\n",
    "\n",
    "For example, the following cell has one simple Python command, which prints \"Hello, World\".\n",
    "\n",
    "You execute the code by running the cell. Try it now, by selecting the cell and clicking **Run** in the toolbar above, or by clicking the Run icon next to the cell."
   ]
  },
  {
   "cell_type": "code",
   "execution_count": 1,
   "metadata": {},
   "outputs": [
    {
     "name": "stdout",
     "output_type": "stream",
     "text": [
      "Hello, World!\n"
     ]
    }
   ],
   "source": [
    "print(\"Hello, World!\")"
   ]
  },
  {
   "cell_type": "markdown",
   "metadata": {},
   "source": [
    "# Code comments\n",
    "In addition to instruction cells, such as this one, code cells include comments.  Comments in Python begin with a pound, or hash, sign, `#`. In the course exercises, extensive code comments explain what the program is doing. Below is another code block, this time with comments."
   ]
  },
  {
   "cell_type": "code",
   "execution_count": 2,
   "metadata": {},
   "outputs": [
    {
     "name": "stdout",
     "output_type": "stream",
     "text": [
      "Edit Me\n"
     ]
    }
   ],
   "source": [
    "# The following line prints the text between quotation marks. Edit the text string to print something different.\n",
    "print(\"Edit Me\")"
   ]
  },
  {
   "cell_type": "markdown",
   "metadata": {},
   "source": [
    "# Modifying code\n",
    "The code you see in exericses is provided and is fully functional. For many exercises, you just run the code directly to see the results.  You do not have to write any code from scratch.\n",
    "\n",
    "Sometimes, we suggest you modify the code, run it again, and compare the results.\n",
    "\n",
    "For example, run the cell below. You should see **22** as a result. \n",
    "\n",
    "Now, try changing the value of `x` or `y` and rerun the cell.  You should see different results.\n",
    "\n",
    "In the exercises in this course, we'll be doing this same thing, although in more meaningful and complex scenarios."
   ]
  },
  {
   "cell_type": "code",
   "execution_count": 5,
   "metadata": {},
   "outputs": [
    {
     "name": "stdout",
     "output_type": "stream",
     "text": [
      "22\n"
     ]
    }
   ],
   "source": [
    "# Change the value of x or y to see a different result.\n",
    "x = 10\n",
    "y = 12\n",
    "print (x + y)"
   ]
  },
  {
   "cell_type": "markdown",
   "metadata": {},
   "source": [
    "## One more example\n",
    "Lets try it once more, this time with a string.  Just replace the value of the variable `my_name` (currently `\"REPLACE\"` with your name). Then run the cell."
   ]
  },
  {
   "cell_type": "code",
   "execution_count": 8,
   "metadata": {},
   "outputs": [
    {
     "name": "stdout",
     "output_type": "stream",
     "text": [
      "REPLACE.\n"
     ]
    }
   ],
   "source": [
    "my_name = \"REPLACE.\"\n",
    "print(my_name)"
   ]
  },
  {
   "cell_type": "markdown",
   "metadata": {},
   "source": [
    "# Moving ahead\n",
    "That's basically how the code exercises work.  Read through the notebook, execute code cells, and modify code as indicated in the instructions.\n",
    "\n",
    "Use the Riff chat for any questions."
   ]
  }
 ],
 "metadata": {
  "kernelspec": {
   "display_name": "Python 2",
   "language": "python",
   "name": "python2"
  },
  "language_info": {
   "codemirror_mode": {
    "name": "ipython",
    "version": 2
   },
   "file_extension": ".py",
   "mimetype": "text/x-python",
   "name": "python",
   "nbconvert_exporter": "python",
   "pygments_lexer": "ipython2",
   "version": "2.7.15"
  }
 },
 "nbformat": 4,
 "nbformat_minor": 2
}
