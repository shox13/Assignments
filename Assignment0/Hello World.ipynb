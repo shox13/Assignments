{
 "cells": [
  {
   "cell_type": "markdown",
   "metadata": {},
   "source": [
    "# Introduction to Code Exercises\n",
    "This exercise introduces you to Jupyter notebooks and shows you how to complete the exercises in this course. Remember that you do not have to know how to write code to complete any of these exercises. The code is always provided for you.\n",
    "\n",
    "Each assignment is provided as a Jupyter notebook, like this one. Each notebook contains text instructions and interactive **code cells**. A code cell is a gray box that contains one or more lines of code.\n",
    "\n",
    "To complete the exercises, you execute the code in the code cells, or \"run the cells\". To run a cell, place your cursor anywhere inside the cell, and then click **Run** in the toolbar at the top of the page. When you run a code cell, the results appear directly below that cell.\n",
    "\n",
    "For example, the following code cell has a simple Python command that prints \"Hello, World!\". Run the cell now by placing your cursor inside the cell and clicking **Run**."
   ]
  },
  {
   "cell_type": "code",
   "execution_count": 1,
   "metadata": {},
   "outputs": [
    {
     "name": "stdout",
     "output_type": "stream",
     "text": [
      "Hello, World!\n"
     ]
    }
   ],
   "source": [
    "print(\"Hello, World!\")"
   ]
  },
  {
   "cell_type": "markdown",
   "metadata": {},
   "source": [
    "# Code Comments\n",
    "Cells frequently include comments that explain what the program is doing. Comments in Python begin with a pound, or hash, sign (`#`). The following cell contains a comment."
   ]
  },
  {
   "cell_type": "code",
   "execution_count": 2,
   "metadata": {},
   "outputs": [
    {
     "name": "stdout",
     "output_type": "stream",
     "text": [
      "Edit Me\n"
     ]
    }
   ],
   "source": [
    "# The following line prints the text between the quotation marks. Change the text string to print something different.\n",
    "print(\"Edit Me\")"
   ]
  },
  {
   "cell_type": "markdown",
   "metadata": {},
   "source": [
    "# Modifying Code\n",
    "The code in each exercise is fully functional. For many exercises, you just run the code cell to see the results. You do not have to write any new code.\n",
    "\n",
    "For some exercises, we suggest that you modify the provided code, run the code again, and compare the results.\n",
    "\n",
    "For example, run the cell below. The result is **22** . \n",
    "\n",
    "Now, try changing the value of `x` or `y` to a different integer and rerun the cell. Note that the results are different.\n",
    "\n",
    "In the exercises in this course, we'll be doing this same thing, but in more meaningful and complex scenarios."
   ]
  },
  {
   "cell_type": "code",
   "execution_count": 5,
   "metadata": {},
   "outputs": [
    {
     "name": "stdout",
     "output_type": "stream",
     "text": [
      "22\n"
     ]
    }
   ],
   "source": [
    "# Change the value of x or y to a different integer and run the cell again to receive a different result.\n",
    "x = 10\n",
    "y = 12\n",
    "print (x + y)"
   ]
  },
  {
   "cell_type": "markdown",
   "metadata": {},
   "source": [
    "## One More Example\n",
    "Replace the text between the quotation marks (currently `REPLACE`) with your name, and then run the cell\n",
    "\n",
    "(In this example, `REPLACE` is the name of a variable called `my_name`. When you replace the text inside the quotation marks, you change the name of the variable.)"
   ]
  },
  {
   "cell_type": "code",
   "execution_count": 8,
   "metadata": {},
   "outputs": [
    {
     "name": "stdout",
     "output_type": "stream",
     "text": [
      "REPLACE.\n"
     ]
    }
   ],
   "source": [
    "my_name = \"REPLACE.\"\n",
    "print(my_name)"
   ]
  },
  {
   "cell_type": "markdown",
   "metadata": {},
   "source": [
    "# Moving Ahead\n",
    "Now you've seen how coding exercises work. To complete a coding exercise, you read through the Jupyter notebook, run the code cells, and modify the code as indicated in the instructions.\n",
    "\n",
    "If you have any questions, use the Riff chat to communicate with your peers and with the course instructors."
   ]
  }
 ],
 "metadata": {
  "kernelspec": {
   "display_name": "Python 2",
   "language": "python",
   "name": "python2"
  },
  "language_info": {
   "codemirror_mode": {
    "name": "ipython",
    "version": 2
   },
   "file_extension": ".py",
   "mimetype": "text/x-python",
   "name": "python",
   "nbconvert_exporter": "python",
   "pygments_lexer": "ipython2",
   "version": "2.7.15"
  }
 },
 "nbformat": 4,
 "nbformat_minor": 2
}
