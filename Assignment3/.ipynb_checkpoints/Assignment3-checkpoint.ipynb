{
 "cells": [
  {
   "cell_type": "markdown",
   "metadata": {},
   "source": [
    "# Modeling Data Using Machine Learning\n",
    "\n",
    "In this exercise, we will take the point of view of a real estate agent who must estimate home prices. We will see how she can use machine learning techniques to come up with better estimates. \n",
    "\n",
    "This exercise has two parts.\n",
    "\n",
    "1. Use multivariate linear regression to predict the best sale price for a house.\n",
    "2. Use multivariate logistic regression to determine whether a seller should add a room to his home.\n",
    "\n",
    "In this exercise, you will use the following elements. For more information about these elements, see the Python Documentation section at the end of the exercise.\n",
    "\n",
    "* `np.ravel` method\n",
    "* `np.mean` method\n",
    "\n",
    "## Part 1: Use Multivariate Linear Regression to Determine a Price\n",
    "\n",
    "Being able to accurately price listings is important for real estate agents. If they price too high, their clients' homes won't sell as fast. And if they price too low, they leave money on the table. \n",
    "\n",
    "A real estate agent can use linear regression to make her price listings more accurate.\n",
    "\n",
    "Say a client wants to sell a home in Boston, which has the following variables:\n",
    "\n",
    "    - CRIM     per capita crime rate by town\n",
    "    - ZN       proportion of residential land zoned for lots over 25,000 sq.ft.\n",
    "    - INDUS    proportion of non-retail business acres per town\n",
    "    - CHAS     Charles River dummy variable (= 1 if tract bounds river; 0 otherwise)\n",
    "    - NOX      nitric oxides concentration (parts per 10 million)\n",
    "    - RM       average number of rooms per dwelling\n",
    "    - AGE      proportion of owner-occupied units built prior to 1940\n",
    "    - DIS      weighted distances to five Boston employment centres\n",
    "    - RAD      index of accessibility to radial highways\n",
    "    - TAX      full-value property-tax rate per 10,000\n",
    "    - PTRATIO  pupil-teacher ratio by town\n",
    "    - B        1000(Bk - 0.63)^2 where Bk is the proportion of blacks by town\n",
    "    - LSTAT    % lower status of the population\n",
    "    - MEDV     median value of owner-occupied homes in 1000's\n",
    "\n",
    "This exercise shows how the agent can use past data to estimate the selling price for the home. The exercise has the following steps.\n",
    "\n",
    "1. Create the model with training data.\n",
    "2. Estimate the median selling price for the home.\n",
    "3. Use regularization to correct overfitting in the model.\n",
    "4. Use cross-validation to test the model for applicability.\n",
    "5. Examine the regularization and cross-validation results."
   ]
  },
  {
   "cell_type": "markdown",
   "metadata": {},
   "source": [
    "### Step 1: Create the Model\n",
    "Luckily for the client, the real estate agent has a set of data on Boston housing from 1978! She'll\n",
    "create a model that she can then plug the client's data into and come up with an\n",
    "estimate for the selling price.\n",
    "\n",
    "The code below uses multivariate linear regression to plot expected and real median home values.\n",
    "\n",
    "Run the cell to see the plot."
   ]
  },
  {
   "cell_type": "code",
   "execution_count": null,
   "metadata": {
    "attributes": {
     "classes": [],
     "id": "",
     "n": "3"
    }
   },
   "outputs": [],
   "source": [
    "!pip install -q datashader\n",
    "from sklearn.datasets import load_boston\n",
    "from sklearn import linear_model\n",
    "from sklearn.model_selection import train_test_split\n",
    "import pandas as pd\n",
    "import numpy as np\n",
    "import matplotlib.pyplot as plt\n",
    "%matplotlib inline\n",
    "\n",
    "def plot_regr(X,y,regr, title, size = 10):\n",
    "    \n",
    "    regr.fit(X, y)\n",
    "\n",
    "    y_pred = regr.predict(X)\n",
    "    plt.clf()\n",
    "    plt.plot(y, y_pred, 'o')\n",
    "\n",
    "    perfect_fit = np.linspace(y.min(),y.max(), 20)\n",
    "    plt.plot(perfect_fit, perfect_fit, 'b--', label='Perfect Fit')\n",
    "\n",
    "    \n",
    "    plt.text(5, 40, \"$R^2$ = %.2f\" % regr.score(X,y))\n",
    "    plt.title(title, size = size)\n",
    "    plt.xlabel('True MEDV ($1,000s)')\n",
    "    plt.ylabel('Predicted MEDV ($1,000s)')\n",
    "    plt.legend()\n",
    "    plt.show()\n",
    "\n",
    "def write_equn(a, b, regr):\n",
    "\n",
    "    regr.fit(a,b)\n",
    "\n",
    "    equn = 'MEDV = %.2f' % regr.intercept_\n",
    "    for feat, val in zip(data.feature_names, regr.coef_):\n",
    "        if val > 0:\n",
    "            equn += ' + %.2f*%s' % (val, feat)\n",
    "        else:\n",
    "            equn += ' - %.2f*%s' % (abs(val), feat)\n",
    "    return equn\n",
    "\n",
    "data = load_boston()\n",
    "X = data.data\n",
    "y = data.target\n",
    "lin = linear_model.LinearRegression()\n",
    "\n",
    "title = 'True vs. Predicted MEDV (whole set) by Multivariate Linear Regression'\n",
    "plot_regr(X, y, lin, title)\n",
    "equn_whole = write_equn(X,y, lin)\n",
    "print(\"The model found for the whole dataset:\\n{}\\n\".format(equn_whole))"
   ]
  },
  {
   "cell_type": "markdown",
   "metadata": {},
   "source": [
    "### Step 2: Estimate the Median Value for the Home\n",
    "The real estate agent now has a model with a lot of variables. All she has to do is enter the information for her client's home and she can estimate its price. She was able to gather some information on her client's home:\n",
    "\n",
    "    - RM       5\n",
    "    - DIS      2.5\n",
    "    - TAX      700\n",
    "\n",
    "We'll plug in the mean values for the values we don't have, which assumes the home is average for those features.\n",
    "\n",
    "Run the two following cells to see an estimate for the home."
   ]
  },
  {
   "cell_type": "code",
   "execution_count": null,
   "metadata": {
    "attributes": {
     "classes": [],
     "id": "",
     "n": "8"
    }
   },
   "outputs": [],
   "source": [
    "example = np.array([X.mean(axis=0)]).ravel()\n",
    "example[5] = 5\n",
    "example[7] = 2.5\n",
    "example[9] = 700\n",
    "example = example.reshape(1,-1)\n",
    "example"
   ]
  },
  {
   "cell_type": "code",
   "execution_count": null,
   "metadata": {
    "attributes": {
     "classes": [],
     "id": "",
     "n": "13"
    }
   },
   "outputs": [],
   "source": [
    "lin = linear_model.LinearRegression()\n",
    "lin.fit(X,y)\n",
    "y_pred = lin.predict(example)\n",
    "print(\"She should price her client's home at $%5.2f, which is lower than the average price of $%5.2f\" %\n",
    "      (y_pred*1000, y.mean()*1000))"
   ]
  },
  {
   "cell_type": "markdown",
   "metadata": {},
   "source": [
    "### Step 3: Correct Overfitting\n",
    "The agent used the model, using the actual value if she had it and the mean value otherwise, and the model returned the estimate you see above. This price will best balance selling her client's home in a timely manner and not leaving any money on the table.\n",
    "\n",
    "Before she gets too confident about her prediction, however, she has to be aware of a couple of pitfalls: **overfitting** and **applicability of the model**. We'll look at overfitting first.\n",
    "\n",
    "#### Overfitting\n",
    "\n",
    "When the agent trains her model on this Boston housing dataset, the model is learning the characteristics of that data. Overfitting occurs when the model reflects the characteristics of the training data too well. In an extreme example, a model whose line passes through every available data point would be needlessly complex, and would not be able to accurately represent a home that is not part of the dataset. For example, if the dataset is made up of condominiums, the model won't do well predicting the price for a single-family home. \n",
    "\n",
    "The opposite of overfitting is **underfitting**. Underfitting creates a model that is too simple and does not reflect the characteristics of the training data.\n",
    "\n",
    "The following image illustrates underfitting vs. overfitting:\n",
    "\n",
    "![](https://encrypted-tbn0.gstatic.com/images?q=tbn:ANd9GcS7NQXhuJ5ZwFJnTv8CYnrYqfQOM4m0Q6fTE-mesM_AV3SbnnIl1g)\n",
    "\n",
    "#### Regularization\n",
    "\n",
    "The agent can use **regularization** to increase her confidence that her model isn't overfitting and that she can use it on a variety of homes. Regularization tends to push the value of the learned parameters lower, sometimes to zero, by deciding whether a feature (such as CRIM, RM, and others) is actually a good predictor. The result is a less complex model less prone to overfitting. \n",
    "\n",
    "The following image shows how regularization moves the overfit model toward something closer to \"just right\" by penalizing high values of $\\theta_3$ and $\\theta_4$.\n",
    "\n",
    "![](http://www.holehouse.org/mlclass/07_Regularization_files/Image.png)\n",
    "\n",
    "Run the cell below to see the results of regularization."
   ]
  },
  {
   "cell_type": "code",
   "execution_count": null,
   "metadata": {
    "attributes": {
     "classes": [],
     "id": "",
     "n": "4"
    }
   },
   "outputs": [],
   "source": [
    "\n",
    "# Ridge regression\n",
    "ridge = linear_model.Ridge(alpha=1.0)\n",
    "title = 'True vs. Predicted MEDV by Multivariate Linear '+\\\n",
    "        'Regression with Ridge Regularization'\n",
    "plot_regr(X, y, ridge, title)\n",
    "equn_ridge = write_equn(X,y, ridge)\n",
    "print(\"The model found by Ridge Regression:\\n{}\\n\".format(equn_ridge))\n",
    "\n",
    "# LASSO regression\n",
    "lasso = linear_model.Lasso(alpha=1.0)\n",
    "title = 'True vs. Predicted MEDV by Multivariate Linear '+\\\n",
    "        'Regression with LASSO Regularization'\n",
    "plot_regr(X, y, lasso, title)\n",
    "equn_lasso = write_equn(X,y, lasso)\n",
    "print(\"The model found by LASSO Regression:\\n{}\\n\".format(equn_lasso))\n",
    "\n",
    "# Elastic-Net regression\n",
    "el_net = linear_model.ElasticNet()\n",
    "title = 'True vs. Predicted MEDV by Multivariate Linear '+\\\n",
    "        'Regression with Elastic Net Regularization'\n",
    "plot_regr(X, y, el_net, title)\n",
    "equn_el_net = write_equn(X,y, el_net)\n",
    "print(\"The model found by Elastic Net Regression:\\n{}\\n\".format(equn_el_net))"
   ]
  },
  {
   "cell_type": "markdown",
   "metadata": {},
   "source": [
    "### Step 4: Test the Model Applicability\n",
    "\n",
    "The agent still needs to determine the applicability of her model. In other words, she has to answer the questions:\n",
    "\n",
    "- Will this model actually work for my clients? \n",
    "- Can I use this to price a house on the north side of the city or the south? \n",
    "\n",
    "#### Cross-Validation\n",
    "\n",
    "To answer these questions, the agent will use **cross-validation**, or a training data and test split. If the model works well on the test set, she can feel more confident that the model will work on new data.\n",
    "\n",
    "The following image illustrates how she will implement cross-validation: \n",
    "\n",
    "![](https://upload.wikimedia.org/wikipedia/commons/1/1c/K-fold_cross_validation_EN.jpg)\n",
    "\n",
    "Run the cell below to see the results for the train and test sets."
   ]
  },
  {
   "cell_type": "code",
   "execution_count": null,
   "metadata": {
    "attributes": {
     "classes": [],
     "id": "",
     "n": "17"
    }
   },
   "outputs": [],
   "source": [
    "# Split data into train/test sets and show fit. \n",
    "X_train, X_test, y_train, y_test = train_test_split(X,y, random_state=0)\n",
    "\n",
    "title = 'True vs. Predicted MEDV (train set) by Multivariate Linear Regression'\n",
    "plot_regr(X_train, y_train, lin, title)\n",
    "equn_train = write_equn(X_train, y_train, lin)\n",
    "print(\"The model found for the train dataset:\\n{}\\n\".format(equn_train))\n",
    "\n",
    "title = 'True vs. Predicted MEDV (test set) by Multivariate Linear Regression'\n",
    "plot_regr(X_test, y_test, lin, title)\n",
    "equn_test = write_equn(X_test, y_test, lin)\n",
    "print(\"The model found for the test dataset:\\n{}\\n\".format(equn_test))"
   ]
  },
  {
   "cell_type": "markdown",
   "metadata": {},
   "source": [
    "###  Examine the Regularization and Cross-Validation Results\n",
    "As you can see above, the train set has a higher $R^2$ value compared to the test set—the $R^2$ value\n",
    "is in [0,1], and it measures how well the model explains the dataset. This\n",
    "happens because the model hasn't seen those data points yet. However, the\n",
    "fit is good and it should help her to price her client's home.\n",
    "\n",
    "To sum up, our real estate agent:\n",
    "\n",
    "1. Used a model built from past data on Boston housing to give her client a good estimate of a sale price. \n",
    "2. Used **regularization** to reduce the chances her model had only learned the data from the dataset. \n",
    "3. Split up the data into training and test sets to **cross-validate** how well it did on new data.\n",
    "\n",
    "Therefore, she can be confident in feeding her model new data from her clients that it was not originally trained on.\n",
    "\n",
    "Next, we'll use use multivariate logistic regression with the same dataset to decide whether adding a bedroom to a house will pay off. \n",
    "\n",
    "## Part 2: Use Multivariate Logistic Regression for a Yes/No Question\n",
    "\n",
    "We just saw how a real estate agent could make a model to accurately price her client's home to balance time on the market and not leave money on the table. \n",
    "\n",
    "Now, the agent has a client who wants to add a bedroom to his home, but he's wondering how it will affect the value and whether he will recoup his investment. More precisely, he wants to know the probability that his home will be worth more than the average home price in his neighborhood after the addition. He's in luck, because she has a multivariate logistic regression model she's been waiting to put to use!\n",
    "\n",
    "As a reminder, her model has the following features:\n",
    "\n",
    "    - CRIM     per capita crime rate by town\n",
    "    - ZN       proportion of residential land zoned for lots over 25,000 sq.ft.\n",
    "    - INDUS    proportion of non-retail business acres per town\n",
    "    - CHAS     Charles River dummy variable (= 1 if tract bounds river; 0 otherwise)\n",
    "    - NOX      nitric oxides concentration (parts per 10 million)\n",
    "    - RM       average number of rooms per dwelling\n",
    "    - AGE      proportion of owner-occupied units built prior to 1940\n",
    "    - DIS      weighted distances to five Boston employment centres\n",
    "    - RAD      index of accessibility to radial highways\n",
    "    - TAX      full-value property-tax rate per 10,000\n",
    "    - PTRATIO  pupil-teacher ratio by town\n",
    "    - B        1000(Bk - 0.63)^2 where Bk is the proportion of blacks by town\n",
    "    - LSTAT    % lower status of the population\n",
    "    - MEDV     median value of owner-occupied homes in 1000's\n",
    "    \n",
    "The home owner gives the agent the following information on his house:\n",
    "\n",
    "    - CRIM     8.5\n",
    "    - RM       3\n",
    "    - DIS      1.5\n",
    "    - TAX      650\n",
    "\n",
    "This exercise has the following steps.\n",
    "\n",
    "1. Load the training data.\n",
    "2. Use an ROC curve to classify the data.\n",
    "3. Predict the probability that an additional room will add significant value to the sale price.\n",
    "4. Use regularization to correct any overfitting in the model.\n",
    "5. Use cross-validation to determine the model's applicability.\n",
    "6. Examine the test results."
   ]
  },
  {
   "cell_type": "markdown",
   "metadata": {},
   "source": [
    "### Step 1: Load the Training Data\n",
    "Using logistic regression, the real estate agent can give the home owner the probability that his house price, after the addition, will be greater than the mean house value for his region.\n",
    "\n",
    "Run the cell below to load the necessary training data."
   ]
  },
  {
   "cell_type": "code",
   "execution_count": null,
   "metadata": {
    "attributes": {
     "classes": [],
     "id": "",
     "n": "7"
    }
   },
   "outputs": [],
   "source": [
    "import numpy as np \n",
    "import scikitplot.plotters as skplt\n",
    "#from mpl_toolkits.mplot3d import Axes3D\n",
    "from sklearn.datasets import load_boston\n",
    "from sklearn.preprocessing import StandardScaler\n",
    "from sklearn import linear_model\n",
    "from sklearn.model_selection import train_test_split\n",
    "import matplotlib.pyplot as plt\n",
    "\n",
    "def plot_roc(X,y,regr, title, size = 10):\n",
    "    \n",
    "    regr.fit(X, y)\n",
    "\n",
    "    y_pred = regr.predict_proba(X)\n",
    "    skplt.plot_roc_curve(y, y_pred, title = title)\n",
    "    plt.show()\n",
    "\n",
    "def write_equn(a, b, regr):\n",
    "\n",
    "    regr.fit(a,b)\n",
    "\n",
    "    equn = 'MEDV = %.2f' % regr.intercept_\n",
    "    for feat, val in zip(data.feature_names, regr.coef_.T):\n",
    "        if val > 0:\n",
    "            equn += ' + %.2f*%s' % (val, feat)\n",
    "        else:\n",
    "            equn += ' - %.2f*%s' % (abs(val), feat)\n",
    "    return equn\n",
    "def classify(y, threshold):\n",
    "    y_clf = []\n",
    "    for val in y:\n",
    "        if val > threshold:\n",
    "            y_clf.append(1)\n",
    "        else:\n",
    "            y_clf.append(0)\n",
    "\n",
    "    return np.array(y_clf)"
   ]
  },
  {
   "cell_type": "markdown",
   "metadata": {},
   "source": [
    "### Step 2: Use an ROC Curve to Classify the Data\n",
    "\n",
    "Next, we will fit our logistic regression model and see how well it classifies our data with a receiver operating characteristic (ROC) curve. ROC curves measure how well the model classifies data points. In our case, that corresponds to correctly labelling points with values (MEDV) greater than and less than the mean. \n",
    "\n",
    "To fit the model, run the cell below."
   ]
  },
  {
   "cell_type": "code",
   "execution_count": null,
   "metadata": {
    "attributes": {
     "classes": [],
     "id": "",
     "n": "8"
    }
   },
   "outputs": [],
   "source": [
    "data = load_boston()\n",
    "X = data.data\n",
    "target_mean = classify(data.target, data.target.mean())\n",
    "\n",
    "log = linear_model.LogisticRegression()\n",
    "\n",
    "title = 'ROC Curve for Multivariate Logistic Regression (whole set)'\n",
    "plot_roc(X, target_mean, log, title)\n",
    "equn_whole = write_equn(X,target_mean, log)\n",
    "print(\"The model found for the whole dataset:\\n{}\\n\".format(equn_whole))"
   ]
  },
  {
   "cell_type": "markdown",
   "metadata": {},
   "source": [
    "An area of 1 is the maximum score possible, so .95 shows our model works well as a classifier.\n",
    "\n",
    "### Step 3: Predict the Probability of Success\n",
    "Your task is to predict the probability that the client's home will be worth more than average after he adds a room. You will need to:\n",
    "\n",
    "1. Fill in the values for his home\n",
    "2. Fill in the mean for all missing values\n",
    "3. Add the vector as the variable to the call to `log.predict_proba()`\n",
    "\n",
    "To do this, enter the values for the `example` array below, using the previous code as an example.\n",
    "\n",
    "**Note**: To see the code that we used, see **Answer Code** below the code cell."
   ]
  },
  {
   "cell_type": "code",
   "execution_count": null,
   "metadata": {
    "attributes": {
     "classes": [],
     "id": "",
     "n": "14"
    }
   },
   "outputs": [],
   "source": [
    "\n",
    "#--------------------------Enter your code here-------------#\n",
    "example = \n",
    "\n",
    "log.fit(X, target_mean)\n",
    "print(\"P(MEDV > mean | RM=4; CRIM=0; DIS=1.5; TAX=650) = %.2f\" % log.predict_proba(example)[0,1])\n",
    "#------------------------------------------------------------#"
   ]
  },
  {
   "cell_type": "markdown",
   "metadata": {},
   "source": [
    "#### Answer Code\n",
    "We used the following code in the code cell.\n",
    "\n",
    "```python\n",
    "example = np.array([X.mean(axis=0)]).ravel()\n",
    "example[0] = 8.5\n",
    "# 3+1 RMs after the addition\n",
    "example[5] = 4\n",
    "example[7] = 1.5\n",
    "example[9] = 650\n",
    "example = example.reshape(1,-1)\n",
    "\n",
    "log.fit(X, target_mean)\n",
    "print(\"P(MEDV > mean | RM=4; CRIM=0; DIS=1.5; TAX=650) = %.2f\" % log.predict_proba(example)[0,1])\n",
    "```\n",
    "Run the cell below to see the mean RMs."
   ]
  },
  {
   "cell_type": "code",
   "execution_count": null,
   "metadata": {
    "attributes": {
     "classes": [],
     "id": "",
     "n": "10"
    }
   },
   "outputs": [],
   "source": [
    "# mean number of RMs\n",
    "X[:,5].mean(axis=0)"
   ]
  },
  {
   "cell_type": "markdown",
   "metadata": {},
   "source": [
    "#### Results\n",
    "Unfortunately, the probability of his house having a greater than average price if he adds a room is only 1%, and our model would predict the 0 class (instead of 1). Additionally, the mean number of rooms for homes in the client's area is 6.28, yet his home only has 4. So, even if he adds another room, the price of his home will be lower than average.\n",
    "\n",
    "### Step 4: Correct for Overfitting\n",
    "\n",
    "As with the linear regression case, the real estate agent has two concerns about her model: **overfitting** and **applicability** (she is not selling homes that were in the dataset it was trained on; still, can she use this model for clients?). \n",
    "\n",
    "Next, we'll introduce regularization to our model to address overfitting, with some graphs to see the effects.\n",
    "\n",
    "Run the cell below to see the results."
   ]
  },
  {
   "cell_type": "code",
   "execution_count": null,
   "metadata": {
    "attributes": {
     "classes": [],
     "id": "",
     "n": "12"
    }
   },
   "outputs": [],
   "source": [
    "# Ridge regression\n",
    "ridge = linear_model.LogisticRegression(penalty='l2')\n",
    "title = 'ROC Curve for Multivariate Logistic Regression with' +\\\n",
    "        ' Ridge Regularization'\n",
    "plot_roc(X, target_mean, ridge, title)\n",
    "equn_ridge = write_equn(X,target_mean, ridge)\n",
    "print(\"The model found by Ridge Regression:\\n{}\\n\".format(equn_ridge))\n",
    "\n",
    "# LASSO regression\n",
    "lasso = linear_model.LogisticRegression(penalty='l1')\n",
    "title = 'ROC Curve for Multivariate Logistic Regression with' +\\\n",
    "        ' Lasso Regularization'\n",
    "plot_roc(X, target_mean, lasso, title)\n",
    "equn_lasso = write_equn(X,target_mean, lasso)\n",
    "print(\"The model found by LASSO Regression:\\n{}\\n\".format(equn_lasso))\n",
    "\n",
    "# Elastic-Net regression\n",
    "scaler = StandardScaler()\n",
    "enet_data = X.copy()\n",
    "scaler.fit(enet_data)\n",
    "enet_data = scaler.transform(enet_data)\n",
    "el_net = linear_model.SGDClassifier(loss='log', penalty='elasticnet')\n",
    "title = 'ROC Curve for Multivariate Logistic Regression with' +\\\n",
    "        ' Elastic Net Regularization'\n",
    "plot_roc(enet_data, target_mean, el_net, title)\n",
    "equn_el_net = write_equn(X,target_mean, el_net)\n",
    "print(\"The model found by Elastic Net Regression:\\n{}\\n\".format(equn_el_net))"
   ]
  },
  {
   "cell_type": "markdown",
   "metadata": {},
   "source": [
    "#### Regularization Results\n",
    "She sees she can use either Ridge or LASSO regularization with her model.\n",
    "The area under the ROC curve for Ridge and LASSO are greater than 0.94. Elastic\n",
    "Net has an area under the curve of 0.77. Either Ridge or LASSO are good \n",
    "candidates to combat overfitting without losing predictive ability. \n",
    "Unfortunately, there is some loss of predictive ability with Elastic Net \n",
    "regularization.  \n",
    "\n",
    "### Step 5: Test Model Applicability\n",
    "Next, the real estate agent will try a train/test split of the data. This will give her a chance \n",
    "to test her model on data it hasn't yet seen.\n",
    "\n",
    "Run the cell below to see the results."
   ]
  },
  {
   "cell_type": "code",
   "execution_count": null,
   "metadata": {
    "attributes": {
     "classes": [],
     "id": "",
     "n": "13"
    }
   },
   "outputs": [],
   "source": [
    "# split data into train/test sets and show fit \n",
    "X_train, X_test, y_train, y_test = train_test_split(X,target_mean, random_state=0)\n",
    "\n",
    "title = 'ROC Curve for Multivariate Logistic Regression (train set)'\n",
    "plot_roc(X_train, y_train, log, title)\n",
    "equn_train = write_equn(X_train, y_train, log)\n",
    "print(\"The model found for the train dataset:\\n{}\\n\".format(equn_train))\n",
    "\n",
    "title = 'ROC Curve for Multivariate Logistic Regression (test set)'\n",
    "plot_roc(X_test, y_test, log , title)\n",
    "equn_test = write_equn(X_test, y_test, log)\n",
    "print(\"The model found for the test dataset:\\n{}\\n\".format(equn_test))"
   ]
  },
  {
   "cell_type": "markdown",
   "metadata": {},
   "source": [
    "#### Cross-Validation Results\n",
    "The area under ROC for the train set is 0.96 and 0.91 for the test set.\n",
    "The model applied to the test data doesn't do as well as on the train data, as\n",
    "she would expect. This happens because the model learned on the train set, and\n",
    "it is seeing the test data for the first time. Because there was no big fall in\n",
    "performance (area fell from .96 to .91) from train to test, she\n",
    "can be confident in using her model with her clients.\n",
    "\n",
    "### Step 6: Examine the Results\n",
    "\n",
    "To sum up, a client came to the real estate agent interested to know \n",
    "whether adding a room to his home would pay off for him by increasing its value\n",
    "above the mean for his neighborhood. This question has a yes or no answer, so\n",
    "it is a classification problem-a perfect fit for a classification model like\n",
    "logistic regression. \n",
    "\n",
    "Our real estate agent:\n",
    "\n",
    "1. Used a model built from past data on Boston housing to determine the answer to a yes/no question. \n",
    "2. Used **regularization** to reduce the chances her model had only learned the data from the dataset. \n",
    "3. Split up the data into training and test sets to **cross-validate** how well it did on new data.\n",
    "\n",
    "Using multivariate logistic regression, the agent determined that her client should not add a room to his home.\n",
    "\n",
    "## Python Documentation\n",
    "Run the following cell to access documentation for the `ravel` function."
   ]
  },
  {
   "cell_type": "code",
   "execution_count": null,
   "metadata": {},
   "outputs": [],
   "source": [
    "?np.ravel"
   ]
  },
  {
   "cell_type": "markdown",
   "metadata": {},
   "source": [
    "Run the following cell to access documentation for the `mean` function."
   ]
  },
  {
   "cell_type": "code",
   "execution_count": null,
   "metadata": {},
   "outputs": [],
   "source": [
    "?np.mean"
   ]
  }
 ],
 "metadata": {
  "kernelspec": {
   "display_name": "Python 2",
   "language": "python",
   "name": "python2"
  },
  "language_info": {
   "codemirror_mode": {
    "name": "ipython",
    "version": 2
   },
   "file_extension": ".py",
   "mimetype": "text/x-python",
   "name": "python",
   "nbconvert_exporter": "python",
   "pygments_lexer": "ipython2",
   "version": "2.7.15"
  }
 },
 "nbformat": 4,
 "nbformat_minor": 2
}
